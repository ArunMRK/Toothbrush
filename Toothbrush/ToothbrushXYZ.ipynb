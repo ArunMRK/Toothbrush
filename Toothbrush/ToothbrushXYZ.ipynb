{
 "cells": [
  {
   "cell_type": "code",
   "execution_count": 102,
   "metadata": {},
   "outputs": [],
   "source": [
    "import pandas as pd\n",
    "import pyarrow\n",
    "import fsspec\n",
    "import s3fs\n",
    "import psycopg2\n",
    "import psycopg2.extras"
   ]
  },
  {
   "cell_type": "code",
   "execution_count": 103,
   "metadata": {},
   "outputs": [
    {
     "name": "stdout",
     "output_type": "stream",
     "text": [
      "Requirement already satisfied: boto3 in /opt/homebrew/lib/python3.10/site-packages (1.24.59)\n",
      "Requirement already satisfied: s3fs in /opt/homebrew/lib/python3.10/site-packages (2022.11.0)\n",
      "Requirement already satisfied: pyarrow in /opt/homebrew/lib/python3.10/site-packages (10.0.1)\n",
      "Requirement already satisfied: pandas in /opt/homebrew/lib/python3.10/site-packages (1.5.2)\n",
      "Requirement already satisfied: s3transfer<0.7.0,>=0.6.0 in /opt/homebrew/lib/python3.10/site-packages (from boto3) (0.6.0)\n",
      "Requirement already satisfied: botocore<1.28.0,>=1.27.59 in /opt/homebrew/lib/python3.10/site-packages (from boto3) (1.27.59)\n",
      "Requirement already satisfied: jmespath<2.0.0,>=0.7.1 in /opt/homebrew/lib/python3.10/site-packages (from boto3) (1.0.1)\n",
      "Requirement already satisfied: fsspec==2022.11.0 in /opt/homebrew/lib/python3.10/site-packages (from s3fs) (2022.11.0)\n",
      "Requirement already satisfied: aiobotocore~=2.4.0 in /opt/homebrew/lib/python3.10/site-packages (from s3fs) (2.4.1)\n",
      "Requirement already satisfied: aiohttp!=4.0.0a0,!=4.0.0a1 in /opt/homebrew/lib/python3.10/site-packages (from s3fs) (3.8.3)\n",
      "Requirement already satisfied: numpy>=1.16.6 in /opt/homebrew/lib/python3.10/site-packages (from pyarrow) (1.23.5)\n",
      "Requirement already satisfied: pytz>=2020.1 in /opt/homebrew/lib/python3.10/site-packages (from pandas) (2022.6)\n",
      "Requirement already satisfied: python-dateutil>=2.8.1 in /Users/arunkalia/Library/Python/3.10/lib/python/site-packages (from pandas) (2.8.2)\n",
      "Requirement already satisfied: wrapt>=1.10.10 in /opt/homebrew/lib/python3.10/site-packages (from aiobotocore~=2.4.0->s3fs) (1.14.1)\n",
      "Requirement already satisfied: aioitertools>=0.5.1 in /opt/homebrew/lib/python3.10/site-packages (from aiobotocore~=2.4.0->s3fs) (0.11.0)\n",
      "Requirement already satisfied: charset-normalizer<3.0,>=2.0 in /opt/homebrew/lib/python3.10/site-packages (from aiohttp!=4.0.0a0,!=4.0.0a1->s3fs) (2.1.1)\n",
      "Requirement already satisfied: frozenlist>=1.1.1 in /opt/homebrew/lib/python3.10/site-packages (from aiohttp!=4.0.0a0,!=4.0.0a1->s3fs) (1.3.3)\n",
      "Requirement already satisfied: aiosignal>=1.1.2 in /opt/homebrew/lib/python3.10/site-packages (from aiohttp!=4.0.0a0,!=4.0.0a1->s3fs) (1.3.1)\n",
      "Requirement already satisfied: async-timeout<5.0,>=4.0.0a3 in /opt/homebrew/lib/python3.10/site-packages (from aiohttp!=4.0.0a0,!=4.0.0a1->s3fs) (4.0.2)\n",
      "Requirement already satisfied: yarl<2.0,>=1.0 in /opt/homebrew/lib/python3.10/site-packages (from aiohttp!=4.0.0a0,!=4.0.0a1->s3fs) (1.8.2)\n",
      "Requirement already satisfied: multidict<7.0,>=4.5 in /opt/homebrew/lib/python3.10/site-packages (from aiohttp!=4.0.0a0,!=4.0.0a1->s3fs) (6.0.3)\n",
      "Requirement already satisfied: attrs>=17.3.0 in /Users/arunkalia/Library/Python/3.10/lib/python/site-packages (from aiohttp!=4.0.0a0,!=4.0.0a1->s3fs) (22.1.0)\n",
      "Requirement already satisfied: urllib3<1.27,>=1.25.4 in /opt/homebrew/lib/python3.10/site-packages (from botocore<1.28.0,>=1.27.59->boto3) (1.26.12)\n",
      "Requirement already satisfied: six>=1.5 in /Users/arunkalia/Library/Python/3.10/lib/python/site-packages (from python-dateutil>=2.8.1->pandas) (1.16.0)\n",
      "Requirement already satisfied: idna>=2.0 in /opt/homebrew/lib/python3.10/site-packages (from yarl<2.0,>=1.0->aiohttp!=4.0.0a0,!=4.0.0a1->s3fs) (3.4)\n"
     ]
    }
   ],
   "source": [
    "!pip install boto3 s3fs pyarrow pandas\n",
    "!hash -r"
   ]
  },
  {
   "cell_type": "code",
   "execution_count": 104,
   "metadata": {},
   "outputs": [],
   "source": [
    "import boto3"
   ]
  },
  {
   "cell_type": "code",
   "execution_count": 105,
   "metadata": {},
   "outputs": [],
   "source": [
    "s3 = boto3.resource('s3')\n",
    "toothbrush_bucket = s3.Bucket('week3-source')"
   ]
  },
  {
   "cell_type": "code",
   "execution_count": 106,
   "metadata": {},
   "outputs": [
    {
     "name": "stdout",
     "output_type": "stream",
     "text": [
      "order_data/\n",
      "order_data/order_data_20220803_0748.csv\n",
      "order_data/order_data_20220803_0859.csv\n",
      "order_data_parquet/1\n",
      "order_data_parquet/2\n"
     ]
    }
   ],
   "source": [
    "for object in toothbrush_bucket.objects.all():\n",
    "    print(object.key)"
   ]
  },
  {
   "cell_type": "code",
   "execution_count": 107,
   "metadata": {},
   "outputs": [],
   "source": [
    "parquet_1=pd.read_parquet('s3://week3-source/order_data_parquet/1')"
   ]
  },
  {
   "cell_type": "code",
   "execution_count": 108,
   "metadata": {},
   "outputs": [
    {
     "name": "stdout",
     "output_type": "stream",
     "text": [
      "<class 'pandas.core.frame.DataFrame'>\n",
      "RangeIndex: 8473 entries, 0 to 8472\n",
      "Data columns (total 12 columns):\n",
      " #   Column             Non-Null Count  Dtype \n",
      "---  ------             --------------  ----- \n",
      " 0   Order Number       8473 non-null   object\n",
      " 1   Toothbrush Type    8473 non-null   object\n",
      " 2   Order Date         8473 non-null   object\n",
      " 3   Customer Age       8473 non-null   int64 \n",
      " 4   Order Quantity     8473 non-null   int64 \n",
      " 5   Delivery Postcode  8473 non-null   object\n",
      " 6   Billing Postcode   8473 non-null   object\n",
      " 7   is_first           8473 non-null   int64 \n",
      " 8   Dispatch Status    8473 non-null   object\n",
      " 9   Dispatched Date    8473 non-null   object\n",
      " 10  Delivery Status    8443 non-null   object\n",
      " 11  Delivery Date      8443 non-null   object\n",
      "dtypes: int64(3), object(9)\n",
      "memory usage: 794.5+ KB\n"
     ]
    }
   ],
   "source": [
    "parquet_1.info()"
   ]
  },
  {
   "cell_type": "code",
   "execution_count": 109,
   "metadata": {},
   "outputs": [],
   "source": [
    "parquet_2=pd.read_parquet('s3://week3-source/order_data_parquet/2')"
   ]
  },
  {
   "cell_type": "code",
   "execution_count": 110,
   "metadata": {},
   "outputs": [
    {
     "name": "stdout",
     "output_type": "stream",
     "text": [
      "<class 'pandas.core.frame.DataFrame'>\n",
      "RangeIndex: 7722 entries, 0 to 7721\n",
      "Data columns (total 12 columns):\n",
      " #   Column             Non-Null Count  Dtype \n",
      "---  ------             --------------  ----- \n",
      " 0   Order Number       7722 non-null   object\n",
      " 1   Toothbrush Type    7722 non-null   object\n",
      " 2   Order Date         7722 non-null   object\n",
      " 3   Customer Age       7722 non-null   int64 \n",
      " 4   Order Quantity     7722 non-null   int64 \n",
      " 5   Delivery Postcode  7722 non-null   object\n",
      " 6   Billing Postcode   7722 non-null   object\n",
      " 7   is_first           7722 non-null   int64 \n",
      " 8   Dispatch Status    7722 non-null   object\n",
      " 9   Dispatched Date    7722 non-null   object\n",
      " 10  Delivery Status    7679 non-null   object\n",
      " 11  Delivery Date      7679 non-null   object\n",
      "dtypes: int64(3), object(9)\n",
      "memory usage: 724.1+ KB\n"
     ]
    }
   ],
   "source": [
    "parquet_2.info()"
   ]
  },
  {
   "cell_type": "code",
   "execution_count": 111,
   "metadata": {},
   "outputs": [],
   "source": [
    "df = pd.concat([parquet_1,parquet_2])"
   ]
  },
  {
   "cell_type": "code",
   "execution_count": 112,
   "metadata": {},
   "outputs": [
    {
     "name": "stdout",
     "output_type": "stream",
     "text": [
      "<class 'pandas.core.frame.DataFrame'>\n",
      "Int64Index: 16195 entries, 0 to 7721\n",
      "Data columns (total 12 columns):\n",
      " #   Column             Non-Null Count  Dtype \n",
      "---  ------             --------------  ----- \n",
      " 0   Order Number       16195 non-null  object\n",
      " 1   Toothbrush Type    16195 non-null  object\n",
      " 2   Order Date         16195 non-null  object\n",
      " 3   Customer Age       16195 non-null  int64 \n",
      " 4   Order Quantity     16195 non-null  int64 \n",
      " 5   Delivery Postcode  16195 non-null  object\n",
      " 6   Billing Postcode   16195 non-null  object\n",
      " 7   is_first           16195 non-null  int64 \n",
      " 8   Dispatch Status    16195 non-null  object\n",
      " 9   Dispatched Date    16195 non-null  object\n",
      " 10  Delivery Status    16122 non-null  object\n",
      " 11  Delivery Date      16122 non-null  object\n",
      "dtypes: int64(3), object(9)\n",
      "memory usage: 1.6+ MB\n"
     ]
    }
   ],
   "source": [
    "df.info()"
   ]
  },
  {
   "cell_type": "code",
   "execution_count": 113,
   "metadata": {},
   "outputs": [],
   "source": [
    "df['Dispatched Date']=pd.to_datetime(df['Dispatched Date'],errors='coerce')\n",
    "df['Order Date']=pd.to_datetime(df['Order Date'],errors='coerce')\n",
    "df['Delivery Date']=pd.to_datetime(df['Delivery Date'],errors='coerce')"
   ]
  },
  {
   "cell_type": "markdown",
   "metadata": {},
   "source": [
    "## Compute the 'order to dispatch' time"
   ]
  },
  {
   "cell_type": "code",
   "execution_count": 114,
   "metadata": {},
   "outputs": [
    {
     "data": {
      "text/plain": [
       "array(['Dispatched', 'Order Received', 'Order Confirmed'], dtype=object)"
      ]
     },
     "execution_count": 114,
     "metadata": {},
     "output_type": "execute_result"
    }
   ],
   "source": [
    "df['Dispatch Status'].unique()"
   ]
  },
  {
   "cell_type": "code",
   "execution_count": 115,
   "metadata": {},
   "outputs": [],
   "source": [
    "DF_only_dispatched = df[(df[\"Dispatch Status\"] == \"Dispatched\")]"
   ]
  },
  {
   "cell_type": "code",
   "execution_count": 116,
   "metadata": {},
   "outputs": [
    {
     "name": "stdout",
     "output_type": "stream",
     "text": [
      "<class 'pandas.core.frame.DataFrame'>\n",
      "Int64Index: 16195 entries, 0 to 7721\n",
      "Data columns (total 12 columns):\n",
      " #   Column             Non-Null Count  Dtype         \n",
      "---  ------             --------------  -----         \n",
      " 0   Order Number       16195 non-null  object        \n",
      " 1   Toothbrush Type    16195 non-null  object        \n",
      " 2   Order Date         16195 non-null  datetime64[ns]\n",
      " 3   Customer Age       16195 non-null  int64         \n",
      " 4   Order Quantity     16195 non-null  int64         \n",
      " 5   Delivery Postcode  16195 non-null  object        \n",
      " 6   Billing Postcode   16195 non-null  object        \n",
      " 7   is_first           16195 non-null  int64         \n",
      " 8   Dispatch Status    16195 non-null  object        \n",
      " 9   Dispatched Date    16195 non-null  datetime64[ns]\n",
      " 10  Delivery Status    16122 non-null  object        \n",
      " 11  Delivery Date      16122 non-null  datetime64[ns]\n",
      "dtypes: datetime64[ns](3), int64(3), object(6)\n",
      "memory usage: 1.6+ MB\n"
     ]
    }
   ],
   "source": [
    "df.info()"
   ]
  },
  {
   "cell_type": "code",
   "execution_count": 149,
   "metadata": {},
   "outputs": [
    {
     "data": {
      "text/html": [
       "<div>\n",
       "<style scoped>\n",
       "    .dataframe tbody tr th:only-of-type {\n",
       "        vertical-align: middle;\n",
       "    }\n",
       "\n",
       "    .dataframe tbody tr th {\n",
       "        vertical-align: top;\n",
       "    }\n",
       "\n",
       "    .dataframe thead th {\n",
       "        text-align: right;\n",
       "    }\n",
       "</style>\n",
       "<table border=\"1\" class=\"dataframe\">\n",
       "  <thead>\n",
       "    <tr style=\"text-align: right;\">\n",
       "      <th></th>\n",
       "      <th>Order Number</th>\n",
       "      <th>Toothbrush Type</th>\n",
       "      <th>Order Date</th>\n",
       "      <th>Customer Age</th>\n",
       "      <th>Order Quantity</th>\n",
       "      <th>Delivery Postcode</th>\n",
       "      <th>Billing Postcode</th>\n",
       "      <th>is_first</th>\n",
       "      <th>Dispatch Status</th>\n",
       "      <th>Dispatched Date</th>\n",
       "      <th>Delivery Status</th>\n",
       "      <th>Delivery Date</th>\n",
       "    </tr>\n",
       "  </thead>\n",
       "  <tbody>\n",
       "    <tr>\n",
       "      <th>0</th>\n",
       "      <td>BRU00006087</td>\n",
       "      <td>Toothbrush 4000</td>\n",
       "      <td>2022-02-08 18:01:45.572166400</td>\n",
       "      <td>30</td>\n",
       "      <td>1</td>\n",
       "      <td>CW2%206JT</td>\n",
       "      <td>CV34 5LQ</td>\n",
       "      <td>1</td>\n",
       "      <td>Dispatched</td>\n",
       "      <td>2022-02-09 00:03:56.646510399</td>\n",
       "      <td>Delivered</td>\n",
       "      <td>2022-02-10 02:24:36.208709199</td>\n",
       "    </tr>\n",
       "    <tr>\n",
       "      <th>1</th>\n",
       "      <td>BRU00004946</td>\n",
       "      <td>Toothbrush 4000</td>\n",
       "      <td>2022-02-04 12:05:37.447536800</td>\n",
       "      <td>18</td>\n",
       "      <td>8</td>\n",
       "      <td>CB3%200RD</td>\n",
       "      <td>DN14 5DH</td>\n",
       "      <td>1</td>\n",
       "      <td>Dispatched</td>\n",
       "      <td>2022-02-04 18:55:46.655676800</td>\n",
       "      <td>Delivered</td>\n",
       "      <td>2022-02-06 04:53:57.263182400</td>\n",
       "    </tr>\n",
       "    <tr>\n",
       "      <th>2</th>\n",
       "      <td>BRU00000723</td>\n",
       "      <td>Toothbrush 4000</td>\n",
       "      <td>2021-08-07 13:37:38.234413600</td>\n",
       "      <td>23</td>\n",
       "      <td>5</td>\n",
       "      <td>NG32%203AY</td>\n",
       "      <td>S71 2GD</td>\n",
       "      <td>1</td>\n",
       "      <td>Dispatched</td>\n",
       "      <td>2021-08-07 21:02:42.457034800</td>\n",
       "      <td>Delivered</td>\n",
       "      <td>2021-08-09 06:25:02.592044800</td>\n",
       "    </tr>\n",
       "    <tr>\n",
       "      <th>3</th>\n",
       "      <td>BRU00000942</td>\n",
       "      <td>Toothbrush 4000</td>\n",
       "      <td>2022-02-11 20:03:45.066561200</td>\n",
       "      <td>26</td>\n",
       "      <td>9</td>\n",
       "      <td>CR0%207AU</td>\n",
       "      <td>LN11 0XS</td>\n",
       "      <td>1</td>\n",
       "      <td>Dispatched</td>\n",
       "      <td>2022-02-12 03:48:35.565236000</td>\n",
       "      <td>Delivered</td>\n",
       "      <td>2022-02-13 06:34:01.375112000</td>\n",
       "    </tr>\n",
       "    <tr>\n",
       "      <th>4</th>\n",
       "      <td>BRU00003658</td>\n",
       "      <td>Toothbrush 2000</td>\n",
       "      <td>2021-09-26 04:56:02.086210800</td>\n",
       "      <td>76</td>\n",
       "      <td>9</td>\n",
       "      <td>G33%204JU</td>\n",
       "      <td>NN7 4EH</td>\n",
       "      <td>1</td>\n",
       "      <td>Dispatched</td>\n",
       "      <td>2021-09-26 11:58:58.045588800</td>\n",
       "      <td>Delivered</td>\n",
       "      <td>2021-09-27 18:38:51.340798800</td>\n",
       "    </tr>\n",
       "    <tr>\n",
       "      <th>5</th>\n",
       "      <td>BRU00005693</td>\n",
       "      <td>Toothbrush 4000</td>\n",
       "      <td>2022-07-08 12:39:22.149913200</td>\n",
       "      <td>38</td>\n",
       "      <td>8</td>\n",
       "      <td>PH16%205NA</td>\n",
       "      <td>NG33 4EA</td>\n",
       "      <td>1</td>\n",
       "      <td>Dispatched</td>\n",
       "      <td>2022-07-08 19:53:21.739587600</td>\n",
       "      <td>Delivered</td>\n",
       "      <td>2022-07-09 20:00:03.355443600</td>\n",
       "    </tr>\n",
       "    <tr>\n",
       "      <th>6</th>\n",
       "      <td>BRU00001990</td>\n",
       "      <td>Toothbrush 2000</td>\n",
       "      <td>2021-08-20 12:39:34.745370400</td>\n",
       "      <td>88</td>\n",
       "      <td>3</td>\n",
       "      <td>BN27%209DX</td>\n",
       "      <td>PE27 3HJ</td>\n",
       "      <td>1</td>\n",
       "      <td>Dispatched</td>\n",
       "      <td>2021-08-20 19:13:52.411486000</td>\n",
       "      <td>Delivered</td>\n",
       "      <td>2021-08-22 04:21:48.194304400</td>\n",
       "    </tr>\n",
       "    <tr>\n",
       "      <th>7</th>\n",
       "      <td>BRU00007296</td>\n",
       "      <td>Toothbrush 4000</td>\n",
       "      <td>2021-05-19 01:36:21.216788800</td>\n",
       "      <td>27</td>\n",
       "      <td>3</td>\n",
       "      <td>BN14%207TH</td>\n",
       "      <td>DH2 1BL</td>\n",
       "      <td>1</td>\n",
       "      <td>Dispatched</td>\n",
       "      <td>2021-05-19 08:09:36.887506000</td>\n",
       "      <td>Delivered</td>\n",
       "      <td>2021-05-20 03:06:25.402750000</td>\n",
       "    </tr>\n",
       "    <tr>\n",
       "      <th>8</th>\n",
       "      <td>BRU00007692</td>\n",
       "      <td>Toothbrush 4000</td>\n",
       "      <td>2021-01-06 18:58:02.874072000</td>\n",
       "      <td>29</td>\n",
       "      <td>5</td>\n",
       "      <td>SA8%203DN</td>\n",
       "      <td>DL15 9SE</td>\n",
       "      <td>1</td>\n",
       "      <td>Dispatched</td>\n",
       "      <td>2021-01-07 02:20:46.872294000</td>\n",
       "      <td>Delivered</td>\n",
       "      <td>2021-01-08 06:22:46.876458000</td>\n",
       "    </tr>\n",
       "    <tr>\n",
       "      <th>9</th>\n",
       "      <td>BRU00006415</td>\n",
       "      <td>Toothbrush 2000</td>\n",
       "      <td>2021-08-29 00:54:25.635452000</td>\n",
       "      <td>64</td>\n",
       "      <td>1</td>\n",
       "      <td>IV12%204EW</td>\n",
       "      <td>EX1 3SX</td>\n",
       "      <td>1</td>\n",
       "      <td>Dispatched</td>\n",
       "      <td>2021-08-29 07:55:37.482549200</td>\n",
       "      <td>Delivered</td>\n",
       "      <td>2021-08-30 05:59:04.688159600</td>\n",
       "    </tr>\n",
       "  </tbody>\n",
       "</table>\n",
       "</div>"
      ],
      "text/plain": [
       "  Order Number  Toothbrush Type                    Order Date  Customer Age  \\\n",
       "0  BRU00006087  Toothbrush 4000 2022-02-08 18:01:45.572166400            30   \n",
       "1  BRU00004946  Toothbrush 4000 2022-02-04 12:05:37.447536800            18   \n",
       "2  BRU00000723  Toothbrush 4000 2021-08-07 13:37:38.234413600            23   \n",
       "3  BRU00000942  Toothbrush 4000 2022-02-11 20:03:45.066561200            26   \n",
       "4  BRU00003658  Toothbrush 2000 2021-09-26 04:56:02.086210800            76   \n",
       "5  BRU00005693  Toothbrush 4000 2022-07-08 12:39:22.149913200            38   \n",
       "6  BRU00001990  Toothbrush 2000 2021-08-20 12:39:34.745370400            88   \n",
       "7  BRU00007296  Toothbrush 4000 2021-05-19 01:36:21.216788800            27   \n",
       "8  BRU00007692  Toothbrush 4000 2021-01-06 18:58:02.874072000            29   \n",
       "9  BRU00006415  Toothbrush 2000 2021-08-29 00:54:25.635452000            64   \n",
       "\n",
       "   Order Quantity Delivery Postcode Billing Postcode  is_first  \\\n",
       "0               1         CW2%206JT         CV34 5LQ         1   \n",
       "1               8         CB3%200RD         DN14 5DH         1   \n",
       "2               5        NG32%203AY          S71 2GD         1   \n",
       "3               9         CR0%207AU         LN11 0XS         1   \n",
       "4               9         G33%204JU          NN7 4EH         1   \n",
       "5               8        PH16%205NA         NG33 4EA         1   \n",
       "6               3        BN27%209DX         PE27 3HJ         1   \n",
       "7               3        BN14%207TH          DH2 1BL         1   \n",
       "8               5         SA8%203DN         DL15 9SE         1   \n",
       "9               1        IV12%204EW          EX1 3SX         1   \n",
       "\n",
       "  Dispatch Status               Dispatched Date Delivery Status  \\\n",
       "0      Dispatched 2022-02-09 00:03:56.646510399       Delivered   \n",
       "1      Dispatched 2022-02-04 18:55:46.655676800       Delivered   \n",
       "2      Dispatched 2021-08-07 21:02:42.457034800       Delivered   \n",
       "3      Dispatched 2022-02-12 03:48:35.565236000       Delivered   \n",
       "4      Dispatched 2021-09-26 11:58:58.045588800       Delivered   \n",
       "5      Dispatched 2022-07-08 19:53:21.739587600       Delivered   \n",
       "6      Dispatched 2021-08-20 19:13:52.411486000       Delivered   \n",
       "7      Dispatched 2021-05-19 08:09:36.887506000       Delivered   \n",
       "8      Dispatched 2021-01-07 02:20:46.872294000       Delivered   \n",
       "9      Dispatched 2021-08-29 07:55:37.482549200       Delivered   \n",
       "\n",
       "                  Delivery Date  \n",
       "0 2022-02-10 02:24:36.208709199  \n",
       "1 2022-02-06 04:53:57.263182400  \n",
       "2 2021-08-09 06:25:02.592044800  \n",
       "3 2022-02-13 06:34:01.375112000  \n",
       "4 2021-09-27 18:38:51.340798800  \n",
       "5 2022-07-09 20:00:03.355443600  \n",
       "6 2021-08-22 04:21:48.194304400  \n",
       "7 2021-05-20 03:06:25.402750000  \n",
       "8 2021-01-08 06:22:46.876458000  \n",
       "9 2021-08-30 05:59:04.688159600  "
      ]
     },
     "execution_count": 149,
     "metadata": {},
     "output_type": "execute_result"
    }
   ],
   "source": [
    "df.head(10)"
   ]
  },
  {
   "cell_type": "code",
   "execution_count": 150,
   "metadata": {},
   "outputs": [
    {
     "data": {
      "text/plain": [
       "array(['Delivered', None, 'In Transit', 'Unsuccessful'], dtype=object)"
      ]
     },
     "execution_count": 150,
     "metadata": {},
     "output_type": "execute_result"
    }
   ],
   "source": [
    "df['Delivery Status'].unique()"
   ]
  },
  {
   "cell_type": "code",
   "execution_count": 117,
   "metadata": {},
   "outputs": [
    {
     "name": "stderr",
     "output_type": "stream",
     "text": [
      "/var/folders/n3/ffwxys9n7_g_dzzr0q172hp40000gn/T/ipykernel_36797/487213602.py:1: SettingWithCopyWarning: \n",
      "A value is trying to be set on a copy of a slice from a DataFrame.\n",
      "Try using .loc[row_indexer,col_indexer] = value instead\n",
      "\n",
      "See the caveats in the documentation: https://pandas.pydata.org/pandas-docs/stable/user_guide/indexing.html#returning-a-view-versus-a-copy\n",
      "  DF_only_dispatched['dispatch_difference'] = DF_only_dispatched[\"Dispatched Date\"] - DF_only_dispatched[\"Order Date\"]\n"
     ]
    }
   ],
   "source": [
    "DF_only_dispatched['dispatch_difference'] = DF_only_dispatched[\"Dispatched Date\"] - DF_only_dispatched[\"Order Date\"]"
   ]
  },
  {
   "cell_type": "code",
   "execution_count": 118,
   "metadata": {},
   "outputs": [
    {
     "data": {
      "text/plain": [
       "0      0 days 06:02:11.074343999\n",
       "1         0 days 06:50:09.208140\n",
       "2      0 days 07:25:04.222621200\n",
       "3      0 days 07:44:50.498674800\n",
       "4         0 days 07:02:55.959378\n",
       "                  ...           \n",
       "7717   0 days 07:21:59.579294400\n",
       "7718   0 days 06:53:30.088017600\n",
       "7719   0 days 07:00:27.642520800\n",
       "7720   0 days 06:59:40.904440800\n",
       "7721   0 days 06:56:16.751954400\n",
       "Name: dispatch_difference, Length: 16122, dtype: timedelta64[ns]"
      ]
     },
     "execution_count": 118,
     "metadata": {},
     "output_type": "execute_result"
    }
   ],
   "source": [
    "DF_only_dispatched['dispatch_difference']"
   ]
  },
  {
   "cell_type": "code",
   "execution_count": 119,
   "metadata": {},
   "outputs": [
    {
     "name": "stderr",
     "output_type": "stream",
     "text": [
      "/var/folders/n3/ffwxys9n7_g_dzzr0q172hp40000gn/T/ipykernel_36797/1698832667.py:1: SettingWithCopyWarning: \n",
      "A value is trying to be set on a copy of a slice from a DataFrame.\n",
      "Try using .loc[row_indexer,col_indexer] = value instead\n",
      "\n",
      "See the caveats in the documentation: https://pandas.pydata.org/pandas-docs/stable/user_guide/indexing.html#returning-a-view-versus-a-copy\n",
      "  DF_only_dispatched['dispatch_difference_hours'] = (\n"
     ]
    },
    {
     "data": {
      "text/plain": [
       "0       6.036410\n",
       "1       6.835891\n",
       "2       7.417840\n",
       "3       7.747361\n",
       "4       7.048878\n",
       "          ...   \n",
       "7717    7.366550\n",
       "7718    6.891691\n",
       "7719    7.007678\n",
       "7720    6.994696\n",
       "7721    6.937987\n",
       "Name: dispatch_difference_hours, Length: 16122, dtype: float64"
      ]
     },
     "execution_count": 119,
     "metadata": {},
     "output_type": "execute_result"
    }
   ],
   "source": [
    "DF_only_dispatched['dispatch_difference_hours'] = (\n",
    "    DF_only_dispatched[\"Dispatched Date\"] - \n",
    "    DF_only_dispatched[\"Order Date\"]\n",
    ").dt.total_seconds() / 60 / 60\n",
    "\n",
    "DF_only_dispatched['dispatch_difference_hours']"
   ]
  },
  {
   "cell_type": "code",
   "execution_count": 120,
   "metadata": {},
   "outputs": [
    {
     "data": {
      "text/plain": [
       "7.103417400169012"
      ]
     },
     "execution_count": 120,
     "metadata": {},
     "output_type": "execute_result"
    }
   ],
   "source": [
    "DF_only_dispatched['dispatch_difference_hours'].mean()"
   ]
  },
  {
   "cell_type": "code",
   "execution_count": 121,
   "metadata": {},
   "outputs": [
    {
     "data": {
      "text/plain": [
       "(6.801, 7.411]    6920\n",
       "(7.411, 8.02]     3878\n",
       "(6.192, 6.801]    3875\n",
       "(5.583, 6.192]     715\n",
       "(8.02, 8.629]      655\n",
       "(8.629, 9.239]      42\n",
       "(4.968, 5.583]      36\n",
       "(9.239, 9.848]       1\n",
       "Name: dispatch_difference_hours, dtype: int64"
      ]
     },
     "execution_count": 121,
     "metadata": {},
     "output_type": "execute_result"
    }
   ],
   "source": [
    "DF_only_dispatched['dispatch_difference_hours'].value_counts(bins=8)"
   ]
  },
  {
   "cell_type": "code",
   "execution_count": 122,
   "metadata": {},
   "outputs": [
    {
     "data": {
      "text/plain": [
       "(18.25, 34.375]                 4996\n",
       "(66.625, 82.75]                 4301\n",
       "(82.75, 98.875]                 1796\n",
       "(50.5, 66.625]                  1735\n",
       "(2.125, 18.25]                  1724\n",
       "(34.375, 50.5]                  1412\n",
       "(98.875, 115.0]                  100\n",
       "(-14.129999999999999, 2.125]      58\n",
       "Name: Customer Age, dtype: int64"
      ]
     },
     "execution_count": 122,
     "metadata": {},
     "output_type": "execute_result"
    }
   ],
   "source": [
    "DF_only_dispatched['Customer Age'].value_counts(bins=8)"
   ]
  },
  {
   "cell_type": "markdown",
   "metadata": {},
   "source": [
    "_Normalising the customer ages, setting any negative customer age to the median customer age;_"
   ]
  },
  {
   "cell_type": "code",
   "execution_count": 136,
   "metadata": {},
   "outputs": [],
   "source": [
    "df.loc[df[\"Customer Age\"] < 0, \"Customer Age\"] = df[\"Customer Age\"].median()"
   ]
  },
  {
   "cell_type": "code",
   "execution_count": 139,
   "metadata": {},
   "outputs": [],
   "source": [
    "df_2000=df[df['Toothbrush Type']=='Toothbrush 2000']"
   ]
  },
  {
   "cell_type": "markdown",
   "metadata": {},
   "source": [
    "_Binning ages and ranking age categories by no. of customers for the Toothbrush 2000 range:_"
   ]
  },
  {
   "cell_type": "code",
   "execution_count": 143,
   "metadata": {},
   "outputs": [
    {
     "data": {
      "text/plain": [
       "(65.0, 150.0]    6461\n",
       "(50.0, 65.0]     1483\n",
       "(35.0, 50.0]      110\n",
       "(18.0, 35.0]        1\n",
       "(0.999, 18.0]       0\n",
       "Name: Customer Age, dtype: int64"
      ]
     },
     "execution_count": 143,
     "metadata": {},
     "output_type": "execute_result"
    }
   ],
   "source": [
    "df_2000_age_segments=df_2000['Customer Age'].value_counts(bins=[1,18,35,50,65,150]).sort_values(ascending=False)\n",
    "df_2000_age_segments"
   ]
  },
  {
   "cell_type": "markdown",
   "metadata": {},
   "source": [
    "**The age segment with most customers for the Toothbrush 2000 range is 65+**"
   ]
  },
  {
   "cell_type": "code",
   "execution_count": 144,
   "metadata": {},
   "outputs": [
    {
     "data": {
      "text/plain": [
       "(-0.024, 1.0]    669\n",
       "(11.0, 12.0]     372\n",
       "(13.0, 14.0]     364\n",
       "(8.0, 9.0]       359\n",
       "(12.0, 13.0]     355\n",
       "(14.0, 15.0]     355\n",
       "(6.0, 7.0]       354\n",
       "(16.0, 17.0]     345\n",
       "(5.0, 6.0]       344\n",
       "(15.0, 16.0]     339\n",
       "(22.0, 23.0]     339\n",
       "(10.0, 11.0]     337\n",
       "(7.0, 8.0]       336\n",
       "(18.0, 19.0]     334\n",
       "(17.0, 18.0]     331\n",
       "(1.0, 2.0]       327\n",
       "(9.0, 10.0]      323\n",
       "(19.0, 20.0]     323\n",
       "(20.0, 21.0]     317\n",
       "(21.0, 22.0]     311\n",
       "(2.0, 3.0]       308\n",
       "(4.0, 5.0]       307\n",
       "(3.0, 4.0]       306\n",
       "Name: Order Date, dtype: int64"
      ]
     },
     "execution_count": 144,
     "metadata": {},
     "output_type": "execute_result"
    }
   ],
   "source": [
    "df_2000_buy_times=df_2000['Order Date'].dt.hour.value_counts(bins=23)\n",
    "df_2000_buy_times"
   ]
  },
  {
   "cell_type": "markdown",
   "metadata": {},
   "source": [
    "**The most orders for the toothbrush 2000 range are placed between 00:00 and 01:00**"
   ]
  },
  {
   "cell_type": "markdown",
   "metadata": {},
   "source": [
    "_Binning ages and ranking age categories by no. of customers for the Toothbrush 2000 range:_"
   ]
  },
  {
   "cell_type": "code",
   "execution_count": 145,
   "metadata": {},
   "outputs": [],
   "source": [
    "df_4000=df[df['Toothbrush Type']=='Toothbrush 4000']"
   ]
  },
  {
   "cell_type": "code",
   "execution_count": 146,
   "metadata": {},
   "outputs": [
    {
     "data": {
      "text/plain": [
       "(18.0, 35.0]     5233\n",
       "(0.999, 18.0]    1757\n",
       "(35.0, 50.0]     1104\n",
       "(50.0, 65.0]       30\n",
       "(65.0, 150.0]       0\n",
       "Name: Customer Age, dtype: int64"
      ]
     },
     "execution_count": 146,
     "metadata": {},
     "output_type": "execute_result"
    }
   ],
   "source": [
    "df_4000_age_segments=df_4000['Customer Age'].value_counts(bins=[1,18,35,50,65,150]).sort_values(ascending=False)\n",
    "df_4000_age_segments"
   ]
  },
  {
   "cell_type": "markdown",
   "metadata": {},
   "source": [
    "**The age segment with most customers for the Toothbrush 4000 range is 18-35**"
   ]
  },
  {
   "cell_type": "code",
   "execution_count": 147,
   "metadata": {},
   "outputs": [
    {
     "data": {
      "text/plain": [
       "(-0.024, 1.0]    646\n",
       "(6.0, 7.0]       388\n",
       "(7.0, 8.0]       365\n",
       "(21.0, 22.0]     360\n",
       "(9.0, 10.0]      359\n",
       "(19.0, 20.0]     355\n",
       "(16.0, 17.0]     355\n",
       "(8.0, 9.0]       352\n",
       "(12.0, 13.0]     348\n",
       "(11.0, 12.0]     347\n",
       "(15.0, 16.0]     345\n",
       "(18.0, 19.0]     345\n",
       "(22.0, 23.0]     345\n",
       "(1.0, 2.0]       339\n",
       "(17.0, 18.0]     334\n",
       "(10.0, 11.0]     333\n",
       "(20.0, 21.0]     330\n",
       "(5.0, 6.0]       329\n",
       "(14.0, 15.0]     328\n",
       "(3.0, 4.0]       325\n",
       "(2.0, 3.0]       310\n",
       "(4.0, 5.0]       306\n",
       "(13.0, 14.0]     296\n",
       "Name: Order Date, dtype: int64"
      ]
     },
     "execution_count": 147,
     "metadata": {},
     "output_type": "execute_result"
    }
   ],
   "source": [
    "df_4000_buy_times=df_4000['Order Date'].dt.hour.value_counts(bins=23)\n",
    "df_4000_buy_times"
   ]
  },
  {
   "cell_type": "markdown",
   "metadata": {},
   "source": [
    "**The most orders for the toothbrush 4000 range are placed between 00:00 and 01:00**"
   ]
  },
  {
   "cell_type": "markdown",
   "metadata": {},
   "source": [
    "_When are unsuccessful deliveries occurring?_"
   ]
  },
  {
   "cell_type": "code",
   "execution_count": 151,
   "metadata": {},
   "outputs": [],
   "source": [
    "df_delivery_unsuccessful=df[df['Delivery Status']=='Unsuccessful']"
   ]
  },
  {
   "cell_type": "code",
   "execution_count": 155,
   "metadata": {},
   "outputs": [
    {
     "data": {
      "text/plain": [
       "(0.977, 1.957]      1\n",
       "(7.696, 8.652]      1\n",
       "(20.13, 21.087]     1\n",
       "(19.174, 20.13]     1\n",
       "(8.652, 9.609]      1\n",
       "(22.043, 23.0]      1\n",
       "(6.739, 7.696]      0\n",
       "(15.348, 16.304]    0\n",
       "(21.087, 22.043]    0\n",
       "(2.913, 3.87]       0\n",
       "(3.87, 4.826]       0\n",
       "(18.217, 19.174]    0\n",
       "(17.261, 18.217]    0\n",
       "(16.304, 17.261]    0\n",
       "(14.391, 15.348]    0\n",
       "(5.783, 6.739]      0\n",
       "(13.435, 14.391]    0\n",
       "(12.478, 13.435]    0\n",
       "(1.957, 2.913]      0\n",
       "(10.565, 11.522]    0\n",
       "(9.609, 10.565]     0\n",
       "(4.826, 5.783]      0\n",
       "(11.522, 12.478]    0\n",
       "Name: Delivery Date, dtype: int64"
      ]
     },
     "execution_count": 155,
     "metadata": {},
     "output_type": "execute_result"
    }
   ],
   "source": [
    "df_delivery_fail_times=df_delivery_unsuccessful['Delivery Date'].dt.hour.value_counts(bins=23)\n",
    "df_delivery_fail_times"
   ]
  },
  {
   "cell_type": "markdown",
   "metadata": {},
   "source": [
    "## Challenge 3"
   ]
  }
 ],
 "metadata": {
  "kernelspec": {
   "display_name": "Python 3.10.8 64-bit",
   "language": "python",
   "name": "python3"
  },
  "language_info": {
   "codemirror_mode": {
    "name": "ipython",
    "version": 3
   },
   "file_extension": ".py",
   "mimetype": "text/x-python",
   "name": "python",
   "nbconvert_exporter": "python",
   "pygments_lexer": "ipython3",
   "version": "3.10.8"
  },
  "orig_nbformat": 4,
  "vscode": {
   "interpreter": {
    "hash": "b0fa6594d8f4cbf19f97940f81e996739fb7646882a419484c72d19e05852a7e"
   }
  }
 },
 "nbformat": 4,
 "nbformat_minor": 2
}
