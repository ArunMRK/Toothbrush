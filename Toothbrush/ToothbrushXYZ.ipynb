{
 "cells": [
  {
   "cell_type": "code",
   "execution_count": 515,
   "metadata": {},
   "outputs": [],
   "source": [
    "import pandas as pd\n",
    "import pyarrow\n",
    "import fsspec\n",
    "import s3fs\n",
    "import psycopg2\n",
    "import psycopg2.extras"
   ]
  },
  {
   "cell_type": "code",
   "execution_count": 516,
   "metadata": {},
   "outputs": [
    {
     "name": "stdout",
     "output_type": "stream",
     "text": [
      "Requirement already satisfied: boto3 in /opt/homebrew/lib/python3.10/site-packages (1.24.59)\n",
      "Requirement already satisfied: s3fs in /opt/homebrew/lib/python3.10/site-packages (2022.11.0)\n",
      "Requirement already satisfied: pyarrow in /opt/homebrew/lib/python3.10/site-packages (10.0.1)\n",
      "Requirement already satisfied: pandas in /opt/homebrew/lib/python3.10/site-packages (1.5.2)\n",
      "Requirement already satisfied: botocore<1.28.0,>=1.27.59 in /opt/homebrew/lib/python3.10/site-packages (from boto3) (1.27.59)\n",
      "Requirement already satisfied: s3transfer<0.7.0,>=0.6.0 in /opt/homebrew/lib/python3.10/site-packages (from boto3) (0.6.0)\n",
      "Requirement already satisfied: jmespath<2.0.0,>=0.7.1 in /opt/homebrew/lib/python3.10/site-packages (from boto3) (1.0.1)\n",
      "Requirement already satisfied: aiobotocore~=2.4.0 in /opt/homebrew/lib/python3.10/site-packages (from s3fs) (2.4.1)\n",
      "Requirement already satisfied: fsspec==2022.11.0 in /opt/homebrew/lib/python3.10/site-packages (from s3fs) (2022.11.0)\n",
      "Requirement already satisfied: aiohttp!=4.0.0a0,!=4.0.0a1 in /opt/homebrew/lib/python3.10/site-packages (from s3fs) (3.8.3)\n",
      "Requirement already satisfied: numpy>=1.16.6 in /opt/homebrew/lib/python3.10/site-packages (from pyarrow) (1.23.5)\n",
      "Requirement already satisfied: pytz>=2020.1 in /opt/homebrew/lib/python3.10/site-packages (from pandas) (2022.6)\n",
      "Requirement already satisfied: python-dateutil>=2.8.1 in /Users/arunkalia/Library/Python/3.10/lib/python/site-packages (from pandas) (2.8.2)\n",
      "Requirement already satisfied: aioitertools>=0.5.1 in /opt/homebrew/lib/python3.10/site-packages (from aiobotocore~=2.4.0->s3fs) (0.11.0)\n",
      "Requirement already satisfied: wrapt>=1.10.10 in /opt/homebrew/lib/python3.10/site-packages (from aiobotocore~=2.4.0->s3fs) (1.14.1)\n",
      "Requirement already satisfied: charset-normalizer<3.0,>=2.0 in /opt/homebrew/lib/python3.10/site-packages (from aiohttp!=4.0.0a0,!=4.0.0a1->s3fs) (2.1.1)\n",
      "Requirement already satisfied: yarl<2.0,>=1.0 in /opt/homebrew/lib/python3.10/site-packages (from aiohttp!=4.0.0a0,!=4.0.0a1->s3fs) (1.8.2)\n",
      "Requirement already satisfied: aiosignal>=1.1.2 in /opt/homebrew/lib/python3.10/site-packages (from aiohttp!=4.0.0a0,!=4.0.0a1->s3fs) (1.3.1)\n",
      "Requirement already satisfied: frozenlist>=1.1.1 in /opt/homebrew/lib/python3.10/site-packages (from aiohttp!=4.0.0a0,!=4.0.0a1->s3fs) (1.3.3)\n",
      "Requirement already satisfied: multidict<7.0,>=4.5 in /opt/homebrew/lib/python3.10/site-packages (from aiohttp!=4.0.0a0,!=4.0.0a1->s3fs) (6.0.3)\n",
      "Requirement already satisfied: attrs>=17.3.0 in /Users/arunkalia/Library/Python/3.10/lib/python/site-packages (from aiohttp!=4.0.0a0,!=4.0.0a1->s3fs) (22.1.0)\n",
      "Requirement already satisfied: async-timeout<5.0,>=4.0.0a3 in /opt/homebrew/lib/python3.10/site-packages (from aiohttp!=4.0.0a0,!=4.0.0a1->s3fs) (4.0.2)\n",
      "Requirement already satisfied: urllib3<1.27,>=1.25.4 in /opt/homebrew/lib/python3.10/site-packages (from botocore<1.28.0,>=1.27.59->boto3) (1.26.12)\n",
      "Requirement already satisfied: six>=1.5 in /Users/arunkalia/Library/Python/3.10/lib/python/site-packages (from python-dateutil>=2.8.1->pandas) (1.16.0)\n",
      "Requirement already satisfied: idna>=2.0 in /opt/homebrew/lib/python3.10/site-packages (from yarl<2.0,>=1.0->aiohttp!=4.0.0a0,!=4.0.0a1->s3fs) (3.4)\n"
     ]
    }
   ],
   "source": [
    "!pip install boto3 s3fs pyarrow pandas\n",
    "!hash -r"
   ]
  },
  {
   "cell_type": "code",
   "execution_count": 517,
   "metadata": {},
   "outputs": [],
   "source": [
    "import boto3"
   ]
  },
  {
   "cell_type": "code",
   "execution_count": 518,
   "metadata": {},
   "outputs": [],
   "source": [
    "s3 = boto3.resource('s3')\n",
    "toothbrush_bucket = s3.Bucket('week3-source')"
   ]
  },
  {
   "cell_type": "code",
   "execution_count": 519,
   "metadata": {},
   "outputs": [
    {
     "name": "stdout",
     "output_type": "stream",
     "text": [
      "order_data/\n",
      "order_data/order_data_20220803_0748.csv\n",
      "order_data/order_data_20220803_0859.csv\n",
      "order_data_parquet/1\n",
      "order_data_parquet/2\n"
     ]
    }
   ],
   "source": [
    "for object in toothbrush_bucket.objects.all():\n",
    "    print(object.key)"
   ]
  },
  {
   "cell_type": "code",
   "execution_count": 520,
   "metadata": {},
   "outputs": [],
   "source": [
    "parquet_1=pd.read_parquet('s3://week3-source/order_data_parquet/1')"
   ]
  },
  {
   "cell_type": "code",
   "execution_count": 521,
   "metadata": {},
   "outputs": [
    {
     "name": "stdout",
     "output_type": "stream",
     "text": [
      "<class 'pandas.core.frame.DataFrame'>\n",
      "RangeIndex: 8473 entries, 0 to 8472\n",
      "Data columns (total 12 columns):\n",
      " #   Column             Non-Null Count  Dtype \n",
      "---  ------             --------------  ----- \n",
      " 0   Order Number       8473 non-null   object\n",
      " 1   Toothbrush Type    8473 non-null   object\n",
      " 2   Order Date         8473 non-null   object\n",
      " 3   Customer Age       8473 non-null   int64 \n",
      " 4   Order Quantity     8473 non-null   int64 \n",
      " 5   Delivery Postcode  8473 non-null   object\n",
      " 6   Billing Postcode   8473 non-null   object\n",
      " 7   is_first           8473 non-null   int64 \n",
      " 8   Dispatch Status    8473 non-null   object\n",
      " 9   Dispatched Date    8473 non-null   object\n",
      " 10  Delivery Status    8443 non-null   object\n",
      " 11  Delivery Date      8443 non-null   object\n",
      "dtypes: int64(3), object(9)\n",
      "memory usage: 794.5+ KB\n"
     ]
    }
   ],
   "source": [
    "parquet_1.info()"
   ]
  },
  {
   "cell_type": "code",
   "execution_count": 522,
   "metadata": {},
   "outputs": [],
   "source": [
    "parquet_2=pd.read_parquet('s3://week3-source/order_data_parquet/2')"
   ]
  },
  {
   "cell_type": "code",
   "execution_count": 523,
   "metadata": {},
   "outputs": [
    {
     "name": "stdout",
     "output_type": "stream",
     "text": [
      "<class 'pandas.core.frame.DataFrame'>\n",
      "RangeIndex: 7722 entries, 0 to 7721\n",
      "Data columns (total 12 columns):\n",
      " #   Column             Non-Null Count  Dtype \n",
      "---  ------             --------------  ----- \n",
      " 0   Order Number       7722 non-null   object\n",
      " 1   Toothbrush Type    7722 non-null   object\n",
      " 2   Order Date         7722 non-null   object\n",
      " 3   Customer Age       7722 non-null   int64 \n",
      " 4   Order Quantity     7722 non-null   int64 \n",
      " 5   Delivery Postcode  7722 non-null   object\n",
      " 6   Billing Postcode   7722 non-null   object\n",
      " 7   is_first           7722 non-null   int64 \n",
      " 8   Dispatch Status    7722 non-null   object\n",
      " 9   Dispatched Date    7722 non-null   object\n",
      " 10  Delivery Status    7679 non-null   object\n",
      " 11  Delivery Date      7679 non-null   object\n",
      "dtypes: int64(3), object(9)\n",
      "memory usage: 724.1+ KB\n"
     ]
    }
   ],
   "source": [
    "parquet_2.info()"
   ]
  },
  {
   "cell_type": "code",
   "execution_count": 524,
   "metadata": {},
   "outputs": [],
   "source": [
    "df = pd.concat([parquet_1,parquet_2])"
   ]
  },
  {
   "cell_type": "code",
   "execution_count": 525,
   "metadata": {},
   "outputs": [
    {
     "name": "stdout",
     "output_type": "stream",
     "text": [
      "<class 'pandas.core.frame.DataFrame'>\n",
      "Int64Index: 16195 entries, 0 to 7721\n",
      "Data columns (total 12 columns):\n",
      " #   Column             Non-Null Count  Dtype \n",
      "---  ------             --------------  ----- \n",
      " 0   Order Number       16195 non-null  object\n",
      " 1   Toothbrush Type    16195 non-null  object\n",
      " 2   Order Date         16195 non-null  object\n",
      " 3   Customer Age       16195 non-null  int64 \n",
      " 4   Order Quantity     16195 non-null  int64 \n",
      " 5   Delivery Postcode  16195 non-null  object\n",
      " 6   Billing Postcode   16195 non-null  object\n",
      " 7   is_first           16195 non-null  int64 \n",
      " 8   Dispatch Status    16195 non-null  object\n",
      " 9   Dispatched Date    16195 non-null  object\n",
      " 10  Delivery Status    16122 non-null  object\n",
      " 11  Delivery Date      16122 non-null  object\n",
      "dtypes: int64(3), object(9)\n",
      "memory usage: 1.6+ MB\n"
     ]
    }
   ],
   "source": [
    "df.info()"
   ]
  },
  {
   "cell_type": "code",
   "execution_count": 526,
   "metadata": {},
   "outputs": [],
   "source": [
    "df['Dispatched Date']=pd.to_datetime(df['Dispatched Date'],errors='coerce')\n",
    "df['Order Date']=pd.to_datetime(df['Order Date'],errors='coerce')\n",
    "df['Delivery Date']=pd.to_datetime(df['Delivery Date'],errors='coerce')"
   ]
  },
  {
   "cell_type": "markdown",
   "metadata": {},
   "source": [
    "## Compute the 'order to dispatch' time"
   ]
  },
  {
   "cell_type": "code",
   "execution_count": 527,
   "metadata": {},
   "outputs": [
    {
     "data": {
      "text/plain": [
       "array(['Dispatched', 'Order Received', 'Order Confirmed'], dtype=object)"
      ]
     },
     "execution_count": 527,
     "metadata": {},
     "output_type": "execute_result"
    }
   ],
   "source": [
    "df['Dispatch Status'].unique()"
   ]
  },
  {
   "cell_type": "code",
   "execution_count": 528,
   "metadata": {},
   "outputs": [],
   "source": [
    "DF_only_dispatched = df[(df[\"Dispatch Status\"] == \"Dispatched\")]"
   ]
  },
  {
   "cell_type": "code",
   "execution_count": 529,
   "metadata": {},
   "outputs": [
    {
     "name": "stdout",
     "output_type": "stream",
     "text": [
      "<class 'pandas.core.frame.DataFrame'>\n",
      "Int64Index: 16195 entries, 0 to 7721\n",
      "Data columns (total 12 columns):\n",
      " #   Column             Non-Null Count  Dtype         \n",
      "---  ------             --------------  -----         \n",
      " 0   Order Number       16195 non-null  object        \n",
      " 1   Toothbrush Type    16195 non-null  object        \n",
      " 2   Order Date         16195 non-null  datetime64[ns]\n",
      " 3   Customer Age       16195 non-null  int64         \n",
      " 4   Order Quantity     16195 non-null  int64         \n",
      " 5   Delivery Postcode  16195 non-null  object        \n",
      " 6   Billing Postcode   16195 non-null  object        \n",
      " 7   is_first           16195 non-null  int64         \n",
      " 8   Dispatch Status    16195 non-null  object        \n",
      " 9   Dispatched Date    16195 non-null  datetime64[ns]\n",
      " 10  Delivery Status    16122 non-null  object        \n",
      " 11  Delivery Date      16122 non-null  datetime64[ns]\n",
      "dtypes: datetime64[ns](3), int64(3), object(6)\n",
      "memory usage: 1.6+ MB\n"
     ]
    }
   ],
   "source": [
    "df.info()"
   ]
  },
  {
   "cell_type": "code",
   "execution_count": 530,
   "metadata": {},
   "outputs": [
    {
     "data": {
      "text/html": [
       "<div>\n",
       "<style scoped>\n",
       "    .dataframe tbody tr th:only-of-type {\n",
       "        vertical-align: middle;\n",
       "    }\n",
       "\n",
       "    .dataframe tbody tr th {\n",
       "        vertical-align: top;\n",
       "    }\n",
       "\n",
       "    .dataframe thead th {\n",
       "        text-align: right;\n",
       "    }\n",
       "</style>\n",
       "<table border=\"1\" class=\"dataframe\">\n",
       "  <thead>\n",
       "    <tr style=\"text-align: right;\">\n",
       "      <th></th>\n",
       "      <th>Order Number</th>\n",
       "      <th>Toothbrush Type</th>\n",
       "      <th>Order Date</th>\n",
       "      <th>Customer Age</th>\n",
       "      <th>Order Quantity</th>\n",
       "      <th>Delivery Postcode</th>\n",
       "      <th>Billing Postcode</th>\n",
       "      <th>is_first</th>\n",
       "      <th>Dispatch Status</th>\n",
       "      <th>Dispatched Date</th>\n",
       "      <th>Delivery Status</th>\n",
       "      <th>Delivery Date</th>\n",
       "    </tr>\n",
       "  </thead>\n",
       "  <tbody>\n",
       "    <tr>\n",
       "      <th>0</th>\n",
       "      <td>BRU00006087</td>\n",
       "      <td>Toothbrush 4000</td>\n",
       "      <td>2022-02-08 18:01:45.572166400</td>\n",
       "      <td>30</td>\n",
       "      <td>1</td>\n",
       "      <td>CW2%206JT</td>\n",
       "      <td>CV34 5LQ</td>\n",
       "      <td>1</td>\n",
       "      <td>Dispatched</td>\n",
       "      <td>2022-02-09 00:03:56.646510399</td>\n",
       "      <td>Delivered</td>\n",
       "      <td>2022-02-10 02:24:36.208709199</td>\n",
       "    </tr>\n",
       "    <tr>\n",
       "      <th>1</th>\n",
       "      <td>BRU00004946</td>\n",
       "      <td>Toothbrush 4000</td>\n",
       "      <td>2022-02-04 12:05:37.447536800</td>\n",
       "      <td>18</td>\n",
       "      <td>8</td>\n",
       "      <td>CB3%200RD</td>\n",
       "      <td>DN14 5DH</td>\n",
       "      <td>1</td>\n",
       "      <td>Dispatched</td>\n",
       "      <td>2022-02-04 18:55:46.655676800</td>\n",
       "      <td>Delivered</td>\n",
       "      <td>2022-02-06 04:53:57.263182400</td>\n",
       "    </tr>\n",
       "    <tr>\n",
       "      <th>2</th>\n",
       "      <td>BRU00000723</td>\n",
       "      <td>Toothbrush 4000</td>\n",
       "      <td>2021-08-07 13:37:38.234413600</td>\n",
       "      <td>23</td>\n",
       "      <td>5</td>\n",
       "      <td>NG32%203AY</td>\n",
       "      <td>S71 2GD</td>\n",
       "      <td>1</td>\n",
       "      <td>Dispatched</td>\n",
       "      <td>2021-08-07 21:02:42.457034800</td>\n",
       "      <td>Delivered</td>\n",
       "      <td>2021-08-09 06:25:02.592044800</td>\n",
       "    </tr>\n",
       "    <tr>\n",
       "      <th>3</th>\n",
       "      <td>BRU00000942</td>\n",
       "      <td>Toothbrush 4000</td>\n",
       "      <td>2022-02-11 20:03:45.066561200</td>\n",
       "      <td>26</td>\n",
       "      <td>9</td>\n",
       "      <td>CR0%207AU</td>\n",
       "      <td>LN11 0XS</td>\n",
       "      <td>1</td>\n",
       "      <td>Dispatched</td>\n",
       "      <td>2022-02-12 03:48:35.565236000</td>\n",
       "      <td>Delivered</td>\n",
       "      <td>2022-02-13 06:34:01.375112000</td>\n",
       "    </tr>\n",
       "    <tr>\n",
       "      <th>4</th>\n",
       "      <td>BRU00003658</td>\n",
       "      <td>Toothbrush 2000</td>\n",
       "      <td>2021-09-26 04:56:02.086210800</td>\n",
       "      <td>76</td>\n",
       "      <td>9</td>\n",
       "      <td>G33%204JU</td>\n",
       "      <td>NN7 4EH</td>\n",
       "      <td>1</td>\n",
       "      <td>Dispatched</td>\n",
       "      <td>2021-09-26 11:58:58.045588800</td>\n",
       "      <td>Delivered</td>\n",
       "      <td>2021-09-27 18:38:51.340798800</td>\n",
       "    </tr>\n",
       "    <tr>\n",
       "      <th>5</th>\n",
       "      <td>BRU00005693</td>\n",
       "      <td>Toothbrush 4000</td>\n",
       "      <td>2022-07-08 12:39:22.149913200</td>\n",
       "      <td>38</td>\n",
       "      <td>8</td>\n",
       "      <td>PH16%205NA</td>\n",
       "      <td>NG33 4EA</td>\n",
       "      <td>1</td>\n",
       "      <td>Dispatched</td>\n",
       "      <td>2022-07-08 19:53:21.739587600</td>\n",
       "      <td>Delivered</td>\n",
       "      <td>2022-07-09 20:00:03.355443600</td>\n",
       "    </tr>\n",
       "    <tr>\n",
       "      <th>6</th>\n",
       "      <td>BRU00001990</td>\n",
       "      <td>Toothbrush 2000</td>\n",
       "      <td>2021-08-20 12:39:34.745370400</td>\n",
       "      <td>88</td>\n",
       "      <td>3</td>\n",
       "      <td>BN27%209DX</td>\n",
       "      <td>PE27 3HJ</td>\n",
       "      <td>1</td>\n",
       "      <td>Dispatched</td>\n",
       "      <td>2021-08-20 19:13:52.411486000</td>\n",
       "      <td>Delivered</td>\n",
       "      <td>2021-08-22 04:21:48.194304400</td>\n",
       "    </tr>\n",
       "    <tr>\n",
       "      <th>7</th>\n",
       "      <td>BRU00007296</td>\n",
       "      <td>Toothbrush 4000</td>\n",
       "      <td>2021-05-19 01:36:21.216788800</td>\n",
       "      <td>27</td>\n",
       "      <td>3</td>\n",
       "      <td>BN14%207TH</td>\n",
       "      <td>DH2 1BL</td>\n",
       "      <td>1</td>\n",
       "      <td>Dispatched</td>\n",
       "      <td>2021-05-19 08:09:36.887506000</td>\n",
       "      <td>Delivered</td>\n",
       "      <td>2021-05-20 03:06:25.402750000</td>\n",
       "    </tr>\n",
       "    <tr>\n",
       "      <th>8</th>\n",
       "      <td>BRU00007692</td>\n",
       "      <td>Toothbrush 4000</td>\n",
       "      <td>2021-01-06 18:58:02.874072000</td>\n",
       "      <td>29</td>\n",
       "      <td>5</td>\n",
       "      <td>SA8%203DN</td>\n",
       "      <td>DL15 9SE</td>\n",
       "      <td>1</td>\n",
       "      <td>Dispatched</td>\n",
       "      <td>2021-01-07 02:20:46.872294000</td>\n",
       "      <td>Delivered</td>\n",
       "      <td>2021-01-08 06:22:46.876458000</td>\n",
       "    </tr>\n",
       "    <tr>\n",
       "      <th>9</th>\n",
       "      <td>BRU00006415</td>\n",
       "      <td>Toothbrush 2000</td>\n",
       "      <td>2021-08-29 00:54:25.635452000</td>\n",
       "      <td>64</td>\n",
       "      <td>1</td>\n",
       "      <td>IV12%204EW</td>\n",
       "      <td>EX1 3SX</td>\n",
       "      <td>1</td>\n",
       "      <td>Dispatched</td>\n",
       "      <td>2021-08-29 07:55:37.482549200</td>\n",
       "      <td>Delivered</td>\n",
       "      <td>2021-08-30 05:59:04.688159600</td>\n",
       "    </tr>\n",
       "  </tbody>\n",
       "</table>\n",
       "</div>"
      ],
      "text/plain": [
       "  Order Number  Toothbrush Type                    Order Date  Customer Age  \\\n",
       "0  BRU00006087  Toothbrush 4000 2022-02-08 18:01:45.572166400            30   \n",
       "1  BRU00004946  Toothbrush 4000 2022-02-04 12:05:37.447536800            18   \n",
       "2  BRU00000723  Toothbrush 4000 2021-08-07 13:37:38.234413600            23   \n",
       "3  BRU00000942  Toothbrush 4000 2022-02-11 20:03:45.066561200            26   \n",
       "4  BRU00003658  Toothbrush 2000 2021-09-26 04:56:02.086210800            76   \n",
       "5  BRU00005693  Toothbrush 4000 2022-07-08 12:39:22.149913200            38   \n",
       "6  BRU00001990  Toothbrush 2000 2021-08-20 12:39:34.745370400            88   \n",
       "7  BRU00007296  Toothbrush 4000 2021-05-19 01:36:21.216788800            27   \n",
       "8  BRU00007692  Toothbrush 4000 2021-01-06 18:58:02.874072000            29   \n",
       "9  BRU00006415  Toothbrush 2000 2021-08-29 00:54:25.635452000            64   \n",
       "\n",
       "   Order Quantity Delivery Postcode Billing Postcode  is_first  \\\n",
       "0               1         CW2%206JT         CV34 5LQ         1   \n",
       "1               8         CB3%200RD         DN14 5DH         1   \n",
       "2               5        NG32%203AY          S71 2GD         1   \n",
       "3               9         CR0%207AU         LN11 0XS         1   \n",
       "4               9         G33%204JU          NN7 4EH         1   \n",
       "5               8        PH16%205NA         NG33 4EA         1   \n",
       "6               3        BN27%209DX         PE27 3HJ         1   \n",
       "7               3        BN14%207TH          DH2 1BL         1   \n",
       "8               5         SA8%203DN         DL15 9SE         1   \n",
       "9               1        IV12%204EW          EX1 3SX         1   \n",
       "\n",
       "  Dispatch Status               Dispatched Date Delivery Status  \\\n",
       "0      Dispatched 2022-02-09 00:03:56.646510399       Delivered   \n",
       "1      Dispatched 2022-02-04 18:55:46.655676800       Delivered   \n",
       "2      Dispatched 2021-08-07 21:02:42.457034800       Delivered   \n",
       "3      Dispatched 2022-02-12 03:48:35.565236000       Delivered   \n",
       "4      Dispatched 2021-09-26 11:58:58.045588800       Delivered   \n",
       "5      Dispatched 2022-07-08 19:53:21.739587600       Delivered   \n",
       "6      Dispatched 2021-08-20 19:13:52.411486000       Delivered   \n",
       "7      Dispatched 2021-05-19 08:09:36.887506000       Delivered   \n",
       "8      Dispatched 2021-01-07 02:20:46.872294000       Delivered   \n",
       "9      Dispatched 2021-08-29 07:55:37.482549200       Delivered   \n",
       "\n",
       "                  Delivery Date  \n",
       "0 2022-02-10 02:24:36.208709199  \n",
       "1 2022-02-06 04:53:57.263182400  \n",
       "2 2021-08-09 06:25:02.592044800  \n",
       "3 2022-02-13 06:34:01.375112000  \n",
       "4 2021-09-27 18:38:51.340798800  \n",
       "5 2022-07-09 20:00:03.355443600  \n",
       "6 2021-08-22 04:21:48.194304400  \n",
       "7 2021-05-20 03:06:25.402750000  \n",
       "8 2021-01-08 06:22:46.876458000  \n",
       "9 2021-08-30 05:59:04.688159600  "
      ]
     },
     "execution_count": 530,
     "metadata": {},
     "output_type": "execute_result"
    }
   ],
   "source": [
    "df.head(10)"
   ]
  },
  {
   "cell_type": "code",
   "execution_count": 531,
   "metadata": {},
   "outputs": [
    {
     "data": {
      "text/plain": [
       "array(['Delivered', None, 'In Transit', 'Unsuccessful'], dtype=object)"
      ]
     },
     "execution_count": 531,
     "metadata": {},
     "output_type": "execute_result"
    }
   ],
   "source": [
    "df['Delivery Status'].unique()"
   ]
  },
  {
   "cell_type": "code",
   "execution_count": 532,
   "metadata": {},
   "outputs": [
    {
     "name": "stderr",
     "output_type": "stream",
     "text": [
      "/var/folders/n3/ffwxys9n7_g_dzzr0q172hp40000gn/T/ipykernel_36797/487213602.py:1: SettingWithCopyWarning: \n",
      "A value is trying to be set on a copy of a slice from a DataFrame.\n",
      "Try using .loc[row_indexer,col_indexer] = value instead\n",
      "\n",
      "See the caveats in the documentation: https://pandas.pydata.org/pandas-docs/stable/user_guide/indexing.html#returning-a-view-versus-a-copy\n",
      "  DF_only_dispatched['dispatch_difference'] = DF_only_dispatched[\"Dispatched Date\"] - DF_only_dispatched[\"Order Date\"]\n"
     ]
    }
   ],
   "source": [
    "DF_only_dispatched['dispatch_difference'] = DF_only_dispatched[\"Dispatched Date\"] - DF_only_dispatched[\"Order Date\"]"
   ]
  },
  {
   "cell_type": "code",
   "execution_count": 533,
   "metadata": {},
   "outputs": [
    {
     "data": {
      "text/plain": [
       "0      0 days 06:02:11.074343999\n",
       "1         0 days 06:50:09.208140\n",
       "2      0 days 07:25:04.222621200\n",
       "3      0 days 07:44:50.498674800\n",
       "4         0 days 07:02:55.959378\n",
       "                  ...           \n",
       "7717   0 days 07:21:59.579294400\n",
       "7718   0 days 06:53:30.088017600\n",
       "7719   0 days 07:00:27.642520800\n",
       "7720   0 days 06:59:40.904440800\n",
       "7721   0 days 06:56:16.751954400\n",
       "Name: dispatch_difference, Length: 16122, dtype: timedelta64[ns]"
      ]
     },
     "execution_count": 533,
     "metadata": {},
     "output_type": "execute_result"
    }
   ],
   "source": [
    "DF_only_dispatched['dispatch_difference']"
   ]
  },
  {
   "cell_type": "code",
   "execution_count": 534,
   "metadata": {},
   "outputs": [
    {
     "name": "stderr",
     "output_type": "stream",
     "text": [
      "/var/folders/n3/ffwxys9n7_g_dzzr0q172hp40000gn/T/ipykernel_36797/1698832667.py:1: SettingWithCopyWarning: \n",
      "A value is trying to be set on a copy of a slice from a DataFrame.\n",
      "Try using .loc[row_indexer,col_indexer] = value instead\n",
      "\n",
      "See the caveats in the documentation: https://pandas.pydata.org/pandas-docs/stable/user_guide/indexing.html#returning-a-view-versus-a-copy\n",
      "  DF_only_dispatched['dispatch_difference_hours'] = (\n"
     ]
    },
    {
     "data": {
      "text/plain": [
       "0       6.036410\n",
       "1       6.835891\n",
       "2       7.417840\n",
       "3       7.747361\n",
       "4       7.048878\n",
       "          ...   \n",
       "7717    7.366550\n",
       "7718    6.891691\n",
       "7719    7.007678\n",
       "7720    6.994696\n",
       "7721    6.937987\n",
       "Name: dispatch_difference_hours, Length: 16122, dtype: float64"
      ]
     },
     "execution_count": 534,
     "metadata": {},
     "output_type": "execute_result"
    }
   ],
   "source": [
    "DF_only_dispatched['dispatch_difference_hours'] = (\n",
    "    DF_only_dispatched[\"Dispatched Date\"] - \n",
    "    DF_only_dispatched[\"Order Date\"]\n",
    ").dt.total_seconds() / 60 / 60\n",
    "\n",
    "DF_only_dispatched['dispatch_difference_hours']"
   ]
  },
  {
   "cell_type": "code",
   "execution_count": 535,
   "metadata": {},
   "outputs": [
    {
     "data": {
      "text/plain": [
       "7.103417400169012"
      ]
     },
     "execution_count": 535,
     "metadata": {},
     "output_type": "execute_result"
    }
   ],
   "source": [
    "DF_only_dispatched['dispatch_difference_hours'].mean()"
   ]
  },
  {
   "cell_type": "code",
   "execution_count": 536,
   "metadata": {},
   "outputs": [
    {
     "data": {
      "text/plain": [
       "(6.801, 7.411]    6920\n",
       "(7.411, 8.02]     3878\n",
       "(6.192, 6.801]    3875\n",
       "(5.583, 6.192]     715\n",
       "(8.02, 8.629]      655\n",
       "(8.629, 9.239]      42\n",
       "(4.968, 5.583]      36\n",
       "(9.239, 9.848]       1\n",
       "Name: dispatch_difference_hours, dtype: int64"
      ]
     },
     "execution_count": 536,
     "metadata": {},
     "output_type": "execute_result"
    }
   ],
   "source": [
    "DF_only_dispatched['dispatch_difference_hours'].value_counts(bins=8)"
   ]
  },
  {
   "cell_type": "code",
   "execution_count": 537,
   "metadata": {},
   "outputs": [
    {
     "data": {
      "text/plain": [
       "(18.25, 34.375]                 4996\n",
       "(66.625, 82.75]                 4301\n",
       "(82.75, 98.875]                 1796\n",
       "(50.5, 66.625]                  1735\n",
       "(2.125, 18.25]                  1724\n",
       "(34.375, 50.5]                  1412\n",
       "(98.875, 115.0]                  100\n",
       "(-14.129999999999999, 2.125]      58\n",
       "Name: Customer Age, dtype: int64"
      ]
     },
     "execution_count": 537,
     "metadata": {},
     "output_type": "execute_result"
    }
   ],
   "source": [
    "DF_only_dispatched['Customer Age'].value_counts(bins=8)"
   ]
  },
  {
   "cell_type": "markdown",
   "metadata": {},
   "source": [
    "_Normalising the customer ages, setting any negative customer age to the median customer age;_"
   ]
  },
  {
   "cell_type": "code",
   "execution_count": 538,
   "metadata": {},
   "outputs": [],
   "source": [
    "df.loc[df[\"Customer Age\"] < 0, \"Customer Age\"] = df[\"Customer Age\"].median()"
   ]
  },
  {
   "cell_type": "code",
   "execution_count": 539,
   "metadata": {},
   "outputs": [],
   "source": [
    "df_2000=df[df['Toothbrush Type']=='Toothbrush 2000']"
   ]
  },
  {
   "cell_type": "markdown",
   "metadata": {},
   "source": [
    "_Binning ages and ranking age categories by no. of customers for the Toothbrush 2000 range:_"
   ]
  },
  {
   "cell_type": "code",
   "execution_count": 540,
   "metadata": {},
   "outputs": [],
   "source": [
    "df_2000_age_segments=df_2000['Customer Age'].value_counts(bins=[1,18,35,50,65,150]).sort_values(ascending=False)\n"
   ]
  },
  {
   "cell_type": "markdown",
   "metadata": {},
   "source": [
    "**The age segment with most customers for the Toothbrush 2000 range is 65+**"
   ]
  },
  {
   "cell_type": "code",
   "execution_count": 541,
   "metadata": {},
   "outputs": [
    {
     "data": {
      "text/plain": [
       "(3.0, 4.0]       306\n",
       "(4.0, 5.0]       307\n",
       "(2.0, 3.0]       308\n",
       "(21.0, 22.0]     311\n",
       "(20.0, 21.0]     317\n",
       "(19.0, 20.0]     323\n",
       "(9.0, 10.0]      323\n",
       "(1.0, 2.0]       327\n",
       "(17.0, 18.0]     331\n",
       "(18.0, 19.0]     334\n",
       "(7.0, 8.0]       336\n",
       "(10.0, 11.0]     337\n",
       "(15.0, 16.0]     339\n",
       "(22.0, 23.0]     339\n",
       "(5.0, 6.0]       344\n",
       "(16.0, 17.0]     345\n",
       "(6.0, 7.0]       354\n",
       "(14.0, 15.0]     355\n",
       "(12.0, 13.0]     355\n",
       "(8.0, 9.0]       359\n",
       "(13.0, 14.0]     364\n",
       "(11.0, 12.0]     372\n",
       "(-0.024, 1.0]    669\n",
       "Name: Order Date, dtype: int64"
      ]
     },
     "execution_count": 541,
     "metadata": {},
     "output_type": "execute_result"
    }
   ],
   "source": [
    "df_2000_buy_times=df_2000['Order Date'].dt.hour.value_counts(bins=23)\n",
    "df_2000_buy_times.sort_values()"
   ]
  },
  {
   "cell_type": "markdown",
   "metadata": {},
   "source": [
    "**The most orders for the toothbrush 2000 range are placed between 00:00 and 01:00**"
   ]
  },
  {
   "cell_type": "markdown",
   "metadata": {},
   "source": [
    "_Binning ages and ranking age categories by no. of customers for the Toothbrush 2000 range:_"
   ]
  },
  {
   "cell_type": "code",
   "execution_count": 542,
   "metadata": {},
   "outputs": [],
   "source": [
    "df_4000=df[df['Toothbrush Type']=='Toothbrush 4000']"
   ]
  },
  {
   "cell_type": "code",
   "execution_count": 543,
   "metadata": {},
   "outputs": [
    {
     "data": {
      "text/plain": [
       "(18.0, 35.0]     5233\n",
       "(0.999, 18.0]    1757\n",
       "(35.0, 50.0]     1104\n",
       "(50.0, 65.0]       30\n",
       "(65.0, 150.0]       0\n",
       "Name: Customer Age, dtype: int64"
      ]
     },
     "execution_count": 543,
     "metadata": {},
     "output_type": "execute_result"
    }
   ],
   "source": [
    "df_4000_age_segments=df_4000['Customer Age'].value_counts(bins=[1,18,35,50,65,150]).sort_values(ascending=False)\n",
    "df_4000_age_segments"
   ]
  },
  {
   "cell_type": "markdown",
   "metadata": {},
   "source": [
    "**The age segment with most customers for the Toothbrush 4000 range is 18-35**"
   ]
  },
  {
   "cell_type": "code",
   "execution_count": 544,
   "metadata": {},
   "outputs": [
    {
     "data": {
      "text/plain": [
       "(-0.024, 1.0]    646\n",
       "(6.0, 7.0]       388\n",
       "(7.0, 8.0]       365\n",
       "(21.0, 22.0]     360\n",
       "(9.0, 10.0]      359\n",
       "(19.0, 20.0]     355\n",
       "(16.0, 17.0]     355\n",
       "(8.0, 9.0]       352\n",
       "(12.0, 13.0]     348\n",
       "(11.0, 12.0]     347\n",
       "(15.0, 16.0]     345\n",
       "(18.0, 19.0]     345\n",
       "(22.0, 23.0]     345\n",
       "(1.0, 2.0]       339\n",
       "(17.0, 18.0]     334\n",
       "(10.0, 11.0]     333\n",
       "(20.0, 21.0]     330\n",
       "(5.0, 6.0]       329\n",
       "(14.0, 15.0]     328\n",
       "(3.0, 4.0]       325\n",
       "(2.0, 3.0]       310\n",
       "(4.0, 5.0]       306\n",
       "(13.0, 14.0]     296\n",
       "Name: Order Date, dtype: int64"
      ]
     },
     "execution_count": 544,
     "metadata": {},
     "output_type": "execute_result"
    }
   ],
   "source": [
    "df_4000_buy_times=df_4000['Order Date'].dt.hour.value_counts(bins=23)\n",
    "df_4000_buy_times"
   ]
  },
  {
   "cell_type": "markdown",
   "metadata": {},
   "source": [
    "**The most orders for the toothbrush 4000 range are placed between 00:00 and 01:00**"
   ]
  },
  {
   "cell_type": "markdown",
   "metadata": {},
   "source": [
    "_When are unsuccessful deliveries occurring?_"
   ]
  },
  {
   "cell_type": "code",
   "execution_count": 545,
   "metadata": {},
   "outputs": [],
   "source": [
    "df_delivery_unsuccessful=df[df['Delivery Status']=='Unsuccessful']"
   ]
  },
  {
   "cell_type": "code",
   "execution_count": 546,
   "metadata": {},
   "outputs": [
    {
     "data": {
      "text/plain": [
       "(-0.001, 1.0]    1\n",
       "(7.0, 8.0]       1\n",
       "(20.0, 21.0]     1\n",
       "(19.0, 20.0]     1\n",
       "(8.0, 9.0]       1\n",
       "(22.0, 23.0]     1\n",
       "(6.0, 7.0]       0\n",
       "(15.0, 16.0]     0\n",
       "(21.0, 22.0]     0\n",
       "(2.0, 3.0]       0\n",
       "(3.0, 4.0]       0\n",
       "(18.0, 19.0]     0\n",
       "(17.0, 18.0]     0\n",
       "(16.0, 17.0]     0\n",
       "(14.0, 15.0]     0\n",
       "(5.0, 6.0]       0\n",
       "(13.0, 14.0]     0\n",
       "(12.0, 13.0]     0\n",
       "(1.0, 2.0]       0\n",
       "(10.0, 11.0]     0\n",
       "(9.0, 10.0]      0\n",
       "(4.0, 5.0]       0\n",
       "(11.0, 12.0]     0\n",
       "Name: Delivery Date, dtype: int64"
      ]
     },
     "execution_count": 546,
     "metadata": {},
     "output_type": "execute_result"
    }
   ],
   "source": [
    "df_fail_times=df_delivery_unsuccessful['Delivery Date'].dt.hour.value_counts(bins=[0,1,2,3,4,5,6,7,8,9,10,11,12,13,14,15,16,17,18,19,20,21,22,23])\n",
    "df_fail_times"
   ]
  },
  {
   "cell_type": "markdown",
   "metadata": {},
   "source": [
    "## Challenge 3"
   ]
  },
  {
   "cell_type": "markdown",
   "metadata": {},
   "source": [
    "_Renaming columns_"
   ]
  },
  {
   "cell_type": "code",
   "execution_count": 547,
   "metadata": {},
   "outputs": [
    {
     "name": "stdout",
     "output_type": "stream",
     "text": [
      "<class 'pandas.core.frame.DataFrame'>\n",
      "Int64Index: 16195 entries, 0 to 7721\n",
      "Data columns (total 12 columns):\n",
      " #   Column             Non-Null Count  Dtype         \n",
      "---  ------             --------------  -----         \n",
      " 0   Order Number       16195 non-null  object        \n",
      " 1   Toothbrush Type    16195 non-null  object        \n",
      " 2   Order Date         16195 non-null  datetime64[ns]\n",
      " 3   Customer Age       16195 non-null  int64         \n",
      " 4   Order Quantity     16195 non-null  int64         \n",
      " 5   Delivery Postcode  16195 non-null  object        \n",
      " 6   Billing Postcode   16195 non-null  object        \n",
      " 7   is_first           16195 non-null  int64         \n",
      " 8   Dispatch Status    16195 non-null  object        \n",
      " 9   Dispatched Date    16195 non-null  datetime64[ns]\n",
      " 10  Delivery Status    16122 non-null  object        \n",
      " 11  Delivery Date      16122 non-null  datetime64[ns]\n",
      "dtypes: datetime64[ns](3), int64(3), object(6)\n",
      "memory usage: 1.6+ MB\n"
     ]
    }
   ],
   "source": [
    "df.info()"
   ]
  },
  {
   "cell_type": "code",
   "execution_count": 548,
   "metadata": {},
   "outputs": [],
   "source": [
    "df=df.rename(columns={'Order Number':'order_number','Toothbrush Type':'toothbrush_type','Order Date':'order_date',\n",
    "'Customer Age':'customer_age','Order Quantity':'order_quantity','Delivery Postcode':'delivery postcode','Billing Postcode':'billing_postcode',\n",
    "'Dispatch Status':'dispatch_status','Dispatched Date':'dispatched_date','Delivery Status':'delivery_status','Delivery Date':'delivery_date'})"
   ]
  },
  {
   "cell_type": "code",
   "execution_count": 549,
   "metadata": {},
   "outputs": [
    {
     "name": "stdout",
     "output_type": "stream",
     "text": [
      "<class 'pandas.core.frame.DataFrame'>\n",
      "Int64Index: 16195 entries, 0 to 7721\n",
      "Data columns (total 12 columns):\n",
      " #   Column             Non-Null Count  Dtype         \n",
      "---  ------             --------------  -----         \n",
      " 0   order_number       16195 non-null  object        \n",
      " 1   toothbrush_type    16195 non-null  object        \n",
      " 2   order_date         16195 non-null  datetime64[ns]\n",
      " 3   customer_age       16195 non-null  int64         \n",
      " 4   order_quantity     16195 non-null  int64         \n",
      " 5   delivery postcode  16195 non-null  object        \n",
      " 6   billing_postcode   16195 non-null  object        \n",
      " 7   is_first           16195 non-null  int64         \n",
      " 8   dispatch_status    16195 non-null  object        \n",
      " 9   dispatched_date    16195 non-null  datetime64[ns]\n",
      " 10  delivery_status    16122 non-null  object        \n",
      " 11  delivery_date      16122 non-null  datetime64[ns]\n",
      "dtypes: datetime64[ns](3), int64(3), object(6)\n",
      "memory usage: 1.6+ MB\n"
     ]
    }
   ],
   "source": [
    "df.info()"
   ]
  },
  {
   "cell_type": "markdown",
   "metadata": {},
   "source": [
    "## Visualise dispatch to delivery time"
   ]
  },
  {
   "cell_type": "markdown",
   "metadata": {},
   "source": [
    "_Removing any orders that haven't been dispatched yet, since we obviously can't find their dispatch time_"
   ]
  },
  {
   "cell_type": "code",
   "execution_count": 550,
   "metadata": {},
   "outputs": [
    {
     "data": {
      "text/html": [
       "<div>\n",
       "<style scoped>\n",
       "    .dataframe tbody tr th:only-of-type {\n",
       "        vertical-align: middle;\n",
       "    }\n",
       "\n",
       "    .dataframe tbody tr th {\n",
       "        vertical-align: top;\n",
       "    }\n",
       "\n",
       "    .dataframe thead th {\n",
       "        text-align: right;\n",
       "    }\n",
       "</style>\n",
       "<table border=\"1\" class=\"dataframe\">\n",
       "  <thead>\n",
       "    <tr style=\"text-align: right;\">\n",
       "      <th></th>\n",
       "      <th>order_number</th>\n",
       "      <th>toothbrush_type</th>\n",
       "      <th>order_date</th>\n",
       "      <th>customer_age</th>\n",
       "      <th>order_quantity</th>\n",
       "      <th>delivery postcode</th>\n",
       "      <th>billing_postcode</th>\n",
       "      <th>is_first</th>\n",
       "      <th>dispatch_status</th>\n",
       "      <th>dispatched_date</th>\n",
       "      <th>delivery_status</th>\n",
       "      <th>delivery_date</th>\n",
       "    </tr>\n",
       "  </thead>\n",
       "  <tbody>\n",
       "    <tr>\n",
       "      <th>0</th>\n",
       "      <td>BRU00006087</td>\n",
       "      <td>Toothbrush 4000</td>\n",
       "      <td>2022-02-08 18:01:45.572166400</td>\n",
       "      <td>30</td>\n",
       "      <td>1</td>\n",
       "      <td>CW2%206JT</td>\n",
       "      <td>CV34 5LQ</td>\n",
       "      <td>1</td>\n",
       "      <td>Dispatched</td>\n",
       "      <td>2022-02-09 00:03:56.646510399</td>\n",
       "      <td>Delivered</td>\n",
       "      <td>2022-02-10 02:24:36.208709199</td>\n",
       "    </tr>\n",
       "    <tr>\n",
       "      <th>1</th>\n",
       "      <td>BRU00004946</td>\n",
       "      <td>Toothbrush 4000</td>\n",
       "      <td>2022-02-04 12:05:37.447536800</td>\n",
       "      <td>18</td>\n",
       "      <td>8</td>\n",
       "      <td>CB3%200RD</td>\n",
       "      <td>DN14 5DH</td>\n",
       "      <td>1</td>\n",
       "      <td>Dispatched</td>\n",
       "      <td>2022-02-04 18:55:46.655676800</td>\n",
       "      <td>Delivered</td>\n",
       "      <td>2022-02-06 04:53:57.263182400</td>\n",
       "    </tr>\n",
       "    <tr>\n",
       "      <th>2</th>\n",
       "      <td>BRU00000723</td>\n",
       "      <td>Toothbrush 4000</td>\n",
       "      <td>2021-08-07 13:37:38.234413600</td>\n",
       "      <td>23</td>\n",
       "      <td>5</td>\n",
       "      <td>NG32%203AY</td>\n",
       "      <td>S71 2GD</td>\n",
       "      <td>1</td>\n",
       "      <td>Dispatched</td>\n",
       "      <td>2021-08-07 21:02:42.457034800</td>\n",
       "      <td>Delivered</td>\n",
       "      <td>2021-08-09 06:25:02.592044800</td>\n",
       "    </tr>\n",
       "    <tr>\n",
       "      <th>3</th>\n",
       "      <td>BRU00000942</td>\n",
       "      <td>Toothbrush 4000</td>\n",
       "      <td>2022-02-11 20:03:45.066561200</td>\n",
       "      <td>26</td>\n",
       "      <td>9</td>\n",
       "      <td>CR0%207AU</td>\n",
       "      <td>LN11 0XS</td>\n",
       "      <td>1</td>\n",
       "      <td>Dispatched</td>\n",
       "      <td>2022-02-12 03:48:35.565236000</td>\n",
       "      <td>Delivered</td>\n",
       "      <td>2022-02-13 06:34:01.375112000</td>\n",
       "    </tr>\n",
       "    <tr>\n",
       "      <th>4</th>\n",
       "      <td>BRU00003658</td>\n",
       "      <td>Toothbrush 2000</td>\n",
       "      <td>2021-09-26 04:56:02.086210800</td>\n",
       "      <td>76</td>\n",
       "      <td>9</td>\n",
       "      <td>G33%204JU</td>\n",
       "      <td>NN7 4EH</td>\n",
       "      <td>1</td>\n",
       "      <td>Dispatched</td>\n",
       "      <td>2021-09-26 11:58:58.045588800</td>\n",
       "      <td>Delivered</td>\n",
       "      <td>2021-09-27 18:38:51.340798800</td>\n",
       "    </tr>\n",
       "    <tr>\n",
       "      <th>...</th>\n",
       "      <td>...</td>\n",
       "      <td>...</td>\n",
       "      <td>...</td>\n",
       "      <td>...</td>\n",
       "      <td>...</td>\n",
       "      <td>...</td>\n",
       "      <td>...</td>\n",
       "      <td>...</td>\n",
       "      <td>...</td>\n",
       "      <td>...</td>\n",
       "      <td>...</td>\n",
       "      <td>...</td>\n",
       "    </tr>\n",
       "    <tr>\n",
       "      <th>7717</th>\n",
       "      <td>BRU00006368</td>\n",
       "      <td>Toothbrush 4000</td>\n",
       "      <td>2022-05-14 14:45:37.888868400</td>\n",
       "      <td>36</td>\n",
       "      <td>7</td>\n",
       "      <td>HP12 4TT</td>\n",
       "      <td>HP12   4TT</td>\n",
       "      <td>1</td>\n",
       "      <td>Dispatched</td>\n",
       "      <td>2022-05-14 22:07:37.468162800</td>\n",
       "      <td>Delivered</td>\n",
       "      <td>2022-05-16 01:18:56.336614800</td>\n",
       "    </tr>\n",
       "    <tr>\n",
       "      <th>7718</th>\n",
       "      <td>BRU00002703</td>\n",
       "      <td>Toothbrush 2000</td>\n",
       "      <td>2021-01-13 13:39:21.524274000</td>\n",
       "      <td>65</td>\n",
       "      <td>5</td>\n",
       "      <td>BB1 2EP</td>\n",
       "      <td>BB1   2EP</td>\n",
       "      <td>1</td>\n",
       "      <td>Dispatched</td>\n",
       "      <td>2021-01-13 20:32:51.612291600</td>\n",
       "      <td>Delivered</td>\n",
       "      <td>2021-01-14 21:30:09.167662800</td>\n",
       "    </tr>\n",
       "    <tr>\n",
       "      <th>7719</th>\n",
       "      <td>BRU00006252</td>\n",
       "      <td>Toothbrush 2000</td>\n",
       "      <td>2021-04-12 08:22:26.808347600</td>\n",
       "      <td>83</td>\n",
       "      <td>2</td>\n",
       "      <td>NE5 2NS</td>\n",
       "      <td>NE5   2NS</td>\n",
       "      <td>1</td>\n",
       "      <td>Dispatched</td>\n",
       "      <td>2021-04-12 15:22:54.450868400</td>\n",
       "      <td>Delivered</td>\n",
       "      <td>2021-04-13 21:09:53.703071600</td>\n",
       "    </tr>\n",
       "    <tr>\n",
       "      <th>7720</th>\n",
       "      <td>BRU00005921</td>\n",
       "      <td>Toothbrush 2000</td>\n",
       "      <td>2021-11-21 15:17:38.245222400</td>\n",
       "      <td>78</td>\n",
       "      <td>8</td>\n",
       "      <td>NW6 4AS</td>\n",
       "      <td>NW6   4AS</td>\n",
       "      <td>1</td>\n",
       "      <td>Dispatched</td>\n",
       "      <td>2021-11-21 22:17:19.149663200</td>\n",
       "      <td>Delivered</td>\n",
       "      <td>2021-11-23 02:24:37.566537200</td>\n",
       "    </tr>\n",
       "    <tr>\n",
       "      <th>7721</th>\n",
       "      <td>BRU00000287</td>\n",
       "      <td>Toothbrush 2000</td>\n",
       "      <td>2021-02-26 07:21:12.856111200</td>\n",
       "      <td>76</td>\n",
       "      <td>3</td>\n",
       "      <td>G41 3UD</td>\n",
       "      <td>G41   3UD</td>\n",
       "      <td>1</td>\n",
       "      <td>Dispatched</td>\n",
       "      <td>2021-02-26 14:17:29.608065600</td>\n",
       "      <td>Delivered</td>\n",
       "      <td>2021-02-27 12:01:39.948225600</td>\n",
       "    </tr>\n",
       "  </tbody>\n",
       "</table>\n",
       "<p>16122 rows × 12 columns</p>\n",
       "</div>"
      ],
      "text/plain": [
       "     order_number  toothbrush_type                    order_date  \\\n",
       "0     BRU00006087  Toothbrush 4000 2022-02-08 18:01:45.572166400   \n",
       "1     BRU00004946  Toothbrush 4000 2022-02-04 12:05:37.447536800   \n",
       "2     BRU00000723  Toothbrush 4000 2021-08-07 13:37:38.234413600   \n",
       "3     BRU00000942  Toothbrush 4000 2022-02-11 20:03:45.066561200   \n",
       "4     BRU00003658  Toothbrush 2000 2021-09-26 04:56:02.086210800   \n",
       "...           ...              ...                           ...   \n",
       "7717  BRU00006368  Toothbrush 4000 2022-05-14 14:45:37.888868400   \n",
       "7718  BRU00002703  Toothbrush 2000 2021-01-13 13:39:21.524274000   \n",
       "7719  BRU00006252  Toothbrush 2000 2021-04-12 08:22:26.808347600   \n",
       "7720  BRU00005921  Toothbrush 2000 2021-11-21 15:17:38.245222400   \n",
       "7721  BRU00000287  Toothbrush 2000 2021-02-26 07:21:12.856111200   \n",
       "\n",
       "      customer_age  order_quantity delivery postcode billing_postcode  \\\n",
       "0               30               1         CW2%206JT         CV34 5LQ   \n",
       "1               18               8         CB3%200RD         DN14 5DH   \n",
       "2               23               5        NG32%203AY          S71 2GD   \n",
       "3               26               9         CR0%207AU         LN11 0XS   \n",
       "4               76               9         G33%204JU          NN7 4EH   \n",
       "...            ...             ...               ...              ...   \n",
       "7717            36               7          HP12 4TT       HP12   4TT   \n",
       "7718            65               5           BB1 2EP        BB1   2EP   \n",
       "7719            83               2           NE5 2NS        NE5   2NS   \n",
       "7720            78               8           NW6 4AS        NW6   4AS   \n",
       "7721            76               3           G41 3UD        G41   3UD   \n",
       "\n",
       "      is_first dispatch_status               dispatched_date delivery_status  \\\n",
       "0            1      Dispatched 2022-02-09 00:03:56.646510399       Delivered   \n",
       "1            1      Dispatched 2022-02-04 18:55:46.655676800       Delivered   \n",
       "2            1      Dispatched 2021-08-07 21:02:42.457034800       Delivered   \n",
       "3            1      Dispatched 2022-02-12 03:48:35.565236000       Delivered   \n",
       "4            1      Dispatched 2021-09-26 11:58:58.045588800       Delivered   \n",
       "...        ...             ...                           ...             ...   \n",
       "7717         1      Dispatched 2022-05-14 22:07:37.468162800       Delivered   \n",
       "7718         1      Dispatched 2021-01-13 20:32:51.612291600       Delivered   \n",
       "7719         1      Dispatched 2021-04-12 15:22:54.450868400       Delivered   \n",
       "7720         1      Dispatched 2021-11-21 22:17:19.149663200       Delivered   \n",
       "7721         1      Dispatched 2021-02-26 14:17:29.608065600       Delivered   \n",
       "\n",
       "                     delivery_date  \n",
       "0    2022-02-10 02:24:36.208709199  \n",
       "1    2022-02-06 04:53:57.263182400  \n",
       "2    2021-08-09 06:25:02.592044800  \n",
       "3    2022-02-13 06:34:01.375112000  \n",
       "4    2021-09-27 18:38:51.340798800  \n",
       "...                            ...  \n",
       "7717 2022-05-16 01:18:56.336614800  \n",
       "7718 2021-01-14 21:30:09.167662800  \n",
       "7719 2021-04-13 21:09:53.703071600  \n",
       "7720 2021-11-23 02:24:37.566537200  \n",
       "7721 2021-02-27 12:01:39.948225600  \n",
       "\n",
       "[16122 rows x 12 columns]"
      ]
     },
     "execution_count": 550,
     "metadata": {},
     "output_type": "execute_result"
    }
   ],
   "source": [
    "DF_only_dispatched = df[(df[\"dispatch_status\"] == \"Dispatched\")]\n",
    "DF_only_dispatched"
   ]
  },
  {
   "cell_type": "markdown",
   "metadata": {},
   "source": [
    "_Calculating a dispatch time in hours:_"
   ]
  },
  {
   "cell_type": "code",
   "execution_count": 551,
   "metadata": {},
   "outputs": [
    {
     "name": "stderr",
     "output_type": "stream",
     "text": [
      "/var/folders/n3/ffwxys9n7_g_dzzr0q172hp40000gn/T/ipykernel_36797/2556711468.py:2: SettingWithCopyWarning: \n",
      "A value is trying to be set on a copy of a slice from a DataFrame.\n",
      "Try using .loc[row_indexer,col_indexer] = value instead\n",
      "\n",
      "See the caveats in the documentation: https://pandas.pydata.org/pandas-docs/stable/user_guide/indexing.html#returning-a-view-versus-a-copy\n",
      "  DF_only_dispatched[col] = pd.to_datetime(DF_only_dispatched[col], errors='coerce')\n",
      "/var/folders/n3/ffwxys9n7_g_dzzr0q172hp40000gn/T/ipykernel_36797/2556711468.py:2: SettingWithCopyWarning: \n",
      "A value is trying to be set on a copy of a slice from a DataFrame.\n",
      "Try using .loc[row_indexer,col_indexer] = value instead\n",
      "\n",
      "See the caveats in the documentation: https://pandas.pydata.org/pandas-docs/stable/user_guide/indexing.html#returning-a-view-versus-a-copy\n",
      "  DF_only_dispatched[col] = pd.to_datetime(DF_only_dispatched[col], errors='coerce')\n",
      "/var/folders/n3/ffwxys9n7_g_dzzr0q172hp40000gn/T/ipykernel_36797/2556711468.py:2: SettingWithCopyWarning: \n",
      "A value is trying to be set on a copy of a slice from a DataFrame.\n",
      "Try using .loc[row_indexer,col_indexer] = value instead\n",
      "\n",
      "See the caveats in the documentation: https://pandas.pydata.org/pandas-docs/stable/user_guide/indexing.html#returning-a-view-versus-a-copy\n",
      "  DF_only_dispatched[col] = pd.to_datetime(DF_only_dispatched[col], errors='coerce')\n",
      "/var/folders/n3/ffwxys9n7_g_dzzr0q172hp40000gn/T/ipykernel_36797/2556711468.py:4: SettingWithCopyWarning: \n",
      "A value is trying to be set on a copy of a slice from a DataFrame.\n",
      "Try using .loc[row_indexer,col_indexer] = value instead\n",
      "\n",
      "See the caveats in the documentation: https://pandas.pydata.org/pandas-docs/stable/user_guide/indexing.html#returning-a-view-versus-a-copy\n",
      "  DF_only_dispatched['difference_hours']= (DF_only_dispatched[\"dispatched_date\"] - DF_only_dispatched[\"order_date\"]).dt.total_seconds() / 60 / 60\n"
     ]
    },
    {
     "data": {
      "text/html": [
       "<div>\n",
       "<style scoped>\n",
       "    .dataframe tbody tr th:only-of-type {\n",
       "        vertical-align: middle;\n",
       "    }\n",
       "\n",
       "    .dataframe tbody tr th {\n",
       "        vertical-align: top;\n",
       "    }\n",
       "\n",
       "    .dataframe thead th {\n",
       "        text-align: right;\n",
       "    }\n",
       "</style>\n",
       "<table border=\"1\" class=\"dataframe\">\n",
       "  <thead>\n",
       "    <tr style=\"text-align: right;\">\n",
       "      <th></th>\n",
       "      <th>order_number</th>\n",
       "      <th>toothbrush_type</th>\n",
       "      <th>order_date</th>\n",
       "      <th>customer_age</th>\n",
       "      <th>order_quantity</th>\n",
       "      <th>delivery postcode</th>\n",
       "      <th>billing_postcode</th>\n",
       "      <th>is_first</th>\n",
       "      <th>dispatch_status</th>\n",
       "      <th>dispatched_date</th>\n",
       "      <th>delivery_status</th>\n",
       "      <th>delivery_date</th>\n",
       "      <th>difference_hours</th>\n",
       "    </tr>\n",
       "  </thead>\n",
       "  <tbody>\n",
       "    <tr>\n",
       "      <th>0</th>\n",
       "      <td>BRU00006087</td>\n",
       "      <td>Toothbrush 4000</td>\n",
       "      <td>2022-02-08 18:01:45.572166400</td>\n",
       "      <td>30</td>\n",
       "      <td>1</td>\n",
       "      <td>CW2%206JT</td>\n",
       "      <td>CV34 5LQ</td>\n",
       "      <td>1</td>\n",
       "      <td>Dispatched</td>\n",
       "      <td>2022-02-09 00:03:56.646510399</td>\n",
       "      <td>Delivered</td>\n",
       "      <td>2022-02-10 02:24:36.208709199</td>\n",
       "      <td>6.036410</td>\n",
       "    </tr>\n",
       "    <tr>\n",
       "      <th>1</th>\n",
       "      <td>BRU00004946</td>\n",
       "      <td>Toothbrush 4000</td>\n",
       "      <td>2022-02-04 12:05:37.447536800</td>\n",
       "      <td>18</td>\n",
       "      <td>8</td>\n",
       "      <td>CB3%200RD</td>\n",
       "      <td>DN14 5DH</td>\n",
       "      <td>1</td>\n",
       "      <td>Dispatched</td>\n",
       "      <td>2022-02-04 18:55:46.655676800</td>\n",
       "      <td>Delivered</td>\n",
       "      <td>2022-02-06 04:53:57.263182400</td>\n",
       "      <td>6.835891</td>\n",
       "    </tr>\n",
       "    <tr>\n",
       "      <th>2</th>\n",
       "      <td>BRU00000723</td>\n",
       "      <td>Toothbrush 4000</td>\n",
       "      <td>2021-08-07 13:37:38.234413600</td>\n",
       "      <td>23</td>\n",
       "      <td>5</td>\n",
       "      <td>NG32%203AY</td>\n",
       "      <td>S71 2GD</td>\n",
       "      <td>1</td>\n",
       "      <td>Dispatched</td>\n",
       "      <td>2021-08-07 21:02:42.457034800</td>\n",
       "      <td>Delivered</td>\n",
       "      <td>2021-08-09 06:25:02.592044800</td>\n",
       "      <td>7.417840</td>\n",
       "    </tr>\n",
       "    <tr>\n",
       "      <th>3</th>\n",
       "      <td>BRU00000942</td>\n",
       "      <td>Toothbrush 4000</td>\n",
       "      <td>2022-02-11 20:03:45.066561200</td>\n",
       "      <td>26</td>\n",
       "      <td>9</td>\n",
       "      <td>CR0%207AU</td>\n",
       "      <td>LN11 0XS</td>\n",
       "      <td>1</td>\n",
       "      <td>Dispatched</td>\n",
       "      <td>2022-02-12 03:48:35.565236000</td>\n",
       "      <td>Delivered</td>\n",
       "      <td>2022-02-13 06:34:01.375112000</td>\n",
       "      <td>7.747361</td>\n",
       "    </tr>\n",
       "    <tr>\n",
       "      <th>4</th>\n",
       "      <td>BRU00003658</td>\n",
       "      <td>Toothbrush 2000</td>\n",
       "      <td>2021-09-26 04:56:02.086210800</td>\n",
       "      <td>76</td>\n",
       "      <td>9</td>\n",
       "      <td>G33%204JU</td>\n",
       "      <td>NN7 4EH</td>\n",
       "      <td>1</td>\n",
       "      <td>Dispatched</td>\n",
       "      <td>2021-09-26 11:58:58.045588800</td>\n",
       "      <td>Delivered</td>\n",
       "      <td>2021-09-27 18:38:51.340798800</td>\n",
       "      <td>7.048878</td>\n",
       "    </tr>\n",
       "    <tr>\n",
       "      <th>...</th>\n",
       "      <td>...</td>\n",
       "      <td>...</td>\n",
       "      <td>...</td>\n",
       "      <td>...</td>\n",
       "      <td>...</td>\n",
       "      <td>...</td>\n",
       "      <td>...</td>\n",
       "      <td>...</td>\n",
       "      <td>...</td>\n",
       "      <td>...</td>\n",
       "      <td>...</td>\n",
       "      <td>...</td>\n",
       "      <td>...</td>\n",
       "    </tr>\n",
       "    <tr>\n",
       "      <th>7717</th>\n",
       "      <td>BRU00006368</td>\n",
       "      <td>Toothbrush 4000</td>\n",
       "      <td>2022-05-14 14:45:37.888868400</td>\n",
       "      <td>36</td>\n",
       "      <td>7</td>\n",
       "      <td>HP12 4TT</td>\n",
       "      <td>HP12   4TT</td>\n",
       "      <td>1</td>\n",
       "      <td>Dispatched</td>\n",
       "      <td>2022-05-14 22:07:37.468162800</td>\n",
       "      <td>Delivered</td>\n",
       "      <td>2022-05-16 01:18:56.336614800</td>\n",
       "      <td>7.366550</td>\n",
       "    </tr>\n",
       "    <tr>\n",
       "      <th>7718</th>\n",
       "      <td>BRU00002703</td>\n",
       "      <td>Toothbrush 2000</td>\n",
       "      <td>2021-01-13 13:39:21.524274000</td>\n",
       "      <td>65</td>\n",
       "      <td>5</td>\n",
       "      <td>BB1 2EP</td>\n",
       "      <td>BB1   2EP</td>\n",
       "      <td>1</td>\n",
       "      <td>Dispatched</td>\n",
       "      <td>2021-01-13 20:32:51.612291600</td>\n",
       "      <td>Delivered</td>\n",
       "      <td>2021-01-14 21:30:09.167662800</td>\n",
       "      <td>6.891691</td>\n",
       "    </tr>\n",
       "    <tr>\n",
       "      <th>7719</th>\n",
       "      <td>BRU00006252</td>\n",
       "      <td>Toothbrush 2000</td>\n",
       "      <td>2021-04-12 08:22:26.808347600</td>\n",
       "      <td>83</td>\n",
       "      <td>2</td>\n",
       "      <td>NE5 2NS</td>\n",
       "      <td>NE5   2NS</td>\n",
       "      <td>1</td>\n",
       "      <td>Dispatched</td>\n",
       "      <td>2021-04-12 15:22:54.450868400</td>\n",
       "      <td>Delivered</td>\n",
       "      <td>2021-04-13 21:09:53.703071600</td>\n",
       "      <td>7.007678</td>\n",
       "    </tr>\n",
       "    <tr>\n",
       "      <th>7720</th>\n",
       "      <td>BRU00005921</td>\n",
       "      <td>Toothbrush 2000</td>\n",
       "      <td>2021-11-21 15:17:38.245222400</td>\n",
       "      <td>78</td>\n",
       "      <td>8</td>\n",
       "      <td>NW6 4AS</td>\n",
       "      <td>NW6   4AS</td>\n",
       "      <td>1</td>\n",
       "      <td>Dispatched</td>\n",
       "      <td>2021-11-21 22:17:19.149663200</td>\n",
       "      <td>Delivered</td>\n",
       "      <td>2021-11-23 02:24:37.566537200</td>\n",
       "      <td>6.994696</td>\n",
       "    </tr>\n",
       "    <tr>\n",
       "      <th>7721</th>\n",
       "      <td>BRU00000287</td>\n",
       "      <td>Toothbrush 2000</td>\n",
       "      <td>2021-02-26 07:21:12.856111200</td>\n",
       "      <td>76</td>\n",
       "      <td>3</td>\n",
       "      <td>G41 3UD</td>\n",
       "      <td>G41   3UD</td>\n",
       "      <td>1</td>\n",
       "      <td>Dispatched</td>\n",
       "      <td>2021-02-26 14:17:29.608065600</td>\n",
       "      <td>Delivered</td>\n",
       "      <td>2021-02-27 12:01:39.948225600</td>\n",
       "      <td>6.937987</td>\n",
       "    </tr>\n",
       "  </tbody>\n",
       "</table>\n",
       "<p>16122 rows × 13 columns</p>\n",
       "</div>"
      ],
      "text/plain": [
       "     order_number  toothbrush_type                    order_date  \\\n",
       "0     BRU00006087  Toothbrush 4000 2022-02-08 18:01:45.572166400   \n",
       "1     BRU00004946  Toothbrush 4000 2022-02-04 12:05:37.447536800   \n",
       "2     BRU00000723  Toothbrush 4000 2021-08-07 13:37:38.234413600   \n",
       "3     BRU00000942  Toothbrush 4000 2022-02-11 20:03:45.066561200   \n",
       "4     BRU00003658  Toothbrush 2000 2021-09-26 04:56:02.086210800   \n",
       "...           ...              ...                           ...   \n",
       "7717  BRU00006368  Toothbrush 4000 2022-05-14 14:45:37.888868400   \n",
       "7718  BRU00002703  Toothbrush 2000 2021-01-13 13:39:21.524274000   \n",
       "7719  BRU00006252  Toothbrush 2000 2021-04-12 08:22:26.808347600   \n",
       "7720  BRU00005921  Toothbrush 2000 2021-11-21 15:17:38.245222400   \n",
       "7721  BRU00000287  Toothbrush 2000 2021-02-26 07:21:12.856111200   \n",
       "\n",
       "      customer_age  order_quantity delivery postcode billing_postcode  \\\n",
       "0               30               1         CW2%206JT         CV34 5LQ   \n",
       "1               18               8         CB3%200RD         DN14 5DH   \n",
       "2               23               5        NG32%203AY          S71 2GD   \n",
       "3               26               9         CR0%207AU         LN11 0XS   \n",
       "4               76               9         G33%204JU          NN7 4EH   \n",
       "...            ...             ...               ...              ...   \n",
       "7717            36               7          HP12 4TT       HP12   4TT   \n",
       "7718            65               5           BB1 2EP        BB1   2EP   \n",
       "7719            83               2           NE5 2NS        NE5   2NS   \n",
       "7720            78               8           NW6 4AS        NW6   4AS   \n",
       "7721            76               3           G41 3UD        G41   3UD   \n",
       "\n",
       "      is_first dispatch_status               dispatched_date delivery_status  \\\n",
       "0            1      Dispatched 2022-02-09 00:03:56.646510399       Delivered   \n",
       "1            1      Dispatched 2022-02-04 18:55:46.655676800       Delivered   \n",
       "2            1      Dispatched 2021-08-07 21:02:42.457034800       Delivered   \n",
       "3            1      Dispatched 2022-02-12 03:48:35.565236000       Delivered   \n",
       "4            1      Dispatched 2021-09-26 11:58:58.045588800       Delivered   \n",
       "...        ...             ...                           ...             ...   \n",
       "7717         1      Dispatched 2022-05-14 22:07:37.468162800       Delivered   \n",
       "7718         1      Dispatched 2021-01-13 20:32:51.612291600       Delivered   \n",
       "7719         1      Dispatched 2021-04-12 15:22:54.450868400       Delivered   \n",
       "7720         1      Dispatched 2021-11-21 22:17:19.149663200       Delivered   \n",
       "7721         1      Dispatched 2021-02-26 14:17:29.608065600       Delivered   \n",
       "\n",
       "                     delivery_date  difference_hours  \n",
       "0    2022-02-10 02:24:36.208709199          6.036410  \n",
       "1    2022-02-06 04:53:57.263182400          6.835891  \n",
       "2    2021-08-09 06:25:02.592044800          7.417840  \n",
       "3    2022-02-13 06:34:01.375112000          7.747361  \n",
       "4    2021-09-27 18:38:51.340798800          7.048878  \n",
       "...                            ...               ...  \n",
       "7717 2022-05-16 01:18:56.336614800          7.366550  \n",
       "7718 2021-01-14 21:30:09.167662800          6.891691  \n",
       "7719 2021-04-13 21:09:53.703071600          7.007678  \n",
       "7720 2021-11-23 02:24:37.566537200          6.994696  \n",
       "7721 2021-02-27 12:01:39.948225600          6.937987  \n",
       "\n",
       "[16122 rows x 13 columns]"
      ]
     },
     "execution_count": 551,
     "metadata": {},
     "output_type": "execute_result"
    }
   ],
   "source": [
    "for col in ['order_date', 'delivery_date', 'dispatched_date']:\n",
    "    DF_only_dispatched[col] = pd.to_datetime(DF_only_dispatched[col], errors='coerce')\n",
    "\n",
    "DF_only_dispatched['difference_hours']= (DF_only_dispatched[\"dispatched_date\"] - DF_only_dispatched[\"order_date\"]).dt.total_seconds() / 60 / 60\n",
    "\n",
    "DF_only_dispatched"
   ]
  },
  {
   "cell_type": "markdown",
   "metadata": {},
   "source": [
    "_Making hours into integers to make them easier to work with:_"
   ]
  },
  {
   "cell_type": "code",
   "execution_count": 552,
   "metadata": {},
   "outputs": [
    {
     "name": "stderr",
     "output_type": "stream",
     "text": [
      "/var/folders/n3/ffwxys9n7_g_dzzr0q172hp40000gn/T/ipykernel_36797/2203406561.py:1: SettingWithCopyWarning: \n",
      "A value is trying to be set on a copy of a slice from a DataFrame.\n",
      "Try using .loc[row_indexer,col_indexer] = value instead\n",
      "\n",
      "See the caveats in the documentation: https://pandas.pydata.org/pandas-docs/stable/user_guide/indexing.html#returning-a-view-versus-a-copy\n",
      "  DF_only_dispatched['difference_hours'] = DF_only_dispatched['difference_hours'].astype('int64')\n"
     ]
    }
   ],
   "source": [
    "DF_only_dispatched['difference_hours'] = DF_only_dispatched['difference_hours'].astype('int64')"
   ]
  },
  {
   "cell_type": "code",
   "execution_count": 553,
   "metadata": {},
   "outputs": [
    {
     "name": "stderr",
     "output_type": "stream",
     "text": [
      "/var/folders/n3/ffwxys9n7_g_dzzr0q172hp40000gn/T/ipykernel_36797/130224239.py:1: FutureWarning: The default value of numeric_only in DataFrameGroupBy.sum is deprecated. In a future version, numeric_only will default to False. Either specify numeric_only or select only columns which should be valid for the function.\n",
      "  DF_only_dispatched.groupby('difference_hours').sum()\n"
     ]
    },
    {
     "data": {
      "text/html": [
       "<div>\n",
       "<style scoped>\n",
       "    .dataframe tbody tr th:only-of-type {\n",
       "        vertical-align: middle;\n",
       "    }\n",
       "\n",
       "    .dataframe tbody tr th {\n",
       "        vertical-align: top;\n",
       "    }\n",
       "\n",
       "    .dataframe thead th {\n",
       "        text-align: right;\n",
       "    }\n",
       "</style>\n",
       "<table border=\"1\" class=\"dataframe\">\n",
       "  <thead>\n",
       "    <tr style=\"text-align: right;\">\n",
       "      <th></th>\n",
       "      <th>customer_age</th>\n",
       "      <th>order_quantity</th>\n",
       "      <th>is_first</th>\n",
       "    </tr>\n",
       "    <tr>\n",
       "      <th>difference_hours</th>\n",
       "      <th></th>\n",
       "      <th></th>\n",
       "      <th></th>\n",
       "    </tr>\n",
       "  </thead>\n",
       "  <tbody>\n",
       "    <tr>\n",
       "      <th>4</th>\n",
       "      <td>16</td>\n",
       "      <td>5</td>\n",
       "      <td>1</td>\n",
       "    </tr>\n",
       "    <tr>\n",
       "      <th>5</th>\n",
       "      <td>17089</td>\n",
       "      <td>1691</td>\n",
       "      <td>334</td>\n",
       "    </tr>\n",
       "    <tr>\n",
       "      <th>6</th>\n",
       "      <td>322917</td>\n",
       "      <td>31794</td>\n",
       "      <td>6449</td>\n",
       "    </tr>\n",
       "    <tr>\n",
       "      <th>7</th>\n",
       "      <td>427229</td>\n",
       "      <td>42932</td>\n",
       "      <td>8583</td>\n",
       "    </tr>\n",
       "    <tr>\n",
       "      <th>8</th>\n",
       "      <td>38091</td>\n",
       "      <td>3828</td>\n",
       "      <td>750</td>\n",
       "    </tr>\n",
       "    <tr>\n",
       "      <th>9</th>\n",
       "      <td>177</td>\n",
       "      <td>18</td>\n",
       "      <td>5</td>\n",
       "    </tr>\n",
       "  </tbody>\n",
       "</table>\n",
       "</div>"
      ],
      "text/plain": [
       "                  customer_age  order_quantity  is_first\n",
       "difference_hours                                        \n",
       "4                           16               5         1\n",
       "5                        17089            1691       334\n",
       "6                       322917           31794      6449\n",
       "7                       427229           42932      8583\n",
       "8                        38091            3828       750\n",
       "9                          177              18         5"
      ]
     },
     "execution_count": 553,
     "metadata": {},
     "output_type": "execute_result"
    }
   ],
   "source": [
    "DF_only_dispatched.groupby('difference_hours').sum()"
   ]
  },
  {
   "cell_type": "code",
   "execution_count": 554,
   "metadata": {},
   "outputs": [
    {
     "name": "stderr",
     "output_type": "stream",
     "text": [
      "/var/folders/n3/ffwxys9n7_g_dzzr0q172hp40000gn/T/ipykernel_36797/2853513788.py:1: FutureWarning: The default value of numeric_only in DataFrameGroupBy.sum is deprecated. In a future version, numeric_only will default to False. Either specify numeric_only or select only columns which should be valid for the function.\n",
      "  DF_only_dispatched.groupby('difference_hours').sum().plot(\n"
     ]
    },
    {
     "data": {
      "text/plain": [
       "<AxesSubplot: title={'center': 'Time taken to dispatch hours'}, xlabel='Time to dispatch (hours)', ylabel='No. of orders'>"
      ]
     },
     "execution_count": 554,
     "metadata": {},
     "output_type": "execute_result"
    },
    {
     "data": {
      "image/png": "[encoded data removed]",
      "text/plain": [
       "<Figure size 640x480 with 1 Axes>"
      ]
     },
     "metadata": {},
     "output_type": "display_data"
    }
   ],
   "source": [
    "DF_only_dispatched.groupby('difference_hours').sum().plot(\n",
    "    kind='bar',y='order_quantity',xlabel='Time to dispatch (hours)',ylabel='No. of orders',title='Time taken to dispatch hours')"
   ]
  },
  {
   "cell_type": "code",
   "execution_count": 555,
   "metadata": {},
   "outputs": [],
   "source": [
    "df['order_time']=df['order_date'].dt.hour"
   ]
  },
  {
   "cell_type": "code",
   "execution_count": 556,
   "metadata": {},
   "outputs": [],
   "source": [
    "time_windows = ['Before 6am', '6am-midday', 'Midday-6pm', 'After 6pm']\n",
    "time_bins = [0,6,12,18,24]\n",
    "df['time_windows'] = pd.cut(df['order_time'], labels=time_windows, bins=time_bins)"
   ]
  },
  {
   "cell_type": "code",
   "execution_count": 557,
   "metadata": {},
   "outputs": [],
   "source": [
    "age_labels = ['Under 18', '18-34', '35-49', '50-64','65+']\n",
    "age_bins = [0,17, 34, 49, 64,150]\n",
    "df['age_bracket'] = pd.cut(df['customer_age'], labels=age_labels, bins=age_bins)"
   ]
  },
  {
   "cell_type": "code",
   "execution_count": 558,
   "metadata": {},
   "outputs": [
    {
     "data": {
      "text/html": [
       "<div>\n",
       "<style scoped>\n",
       "    .dataframe tbody tr th:only-of-type {\n",
       "        vertical-align: middle;\n",
       "    }\n",
       "\n",
       "    .dataframe tbody tr th {\n",
       "        vertical-align: top;\n",
       "    }\n",
       "\n",
       "    .dataframe thead th {\n",
       "        text-align: right;\n",
       "    }\n",
       "</style>\n",
       "<table border=\"1\" class=\"dataframe\">\n",
       "  <thead>\n",
       "    <tr style=\"text-align: right;\">\n",
       "      <th></th>\n",
       "      <th>order_number</th>\n",
       "      <th>toothbrush_type</th>\n",
       "      <th>order_date</th>\n",
       "      <th>customer_age</th>\n",
       "      <th>order_quantity</th>\n",
       "      <th>delivery postcode</th>\n",
       "      <th>billing_postcode</th>\n",
       "      <th>is_first</th>\n",
       "      <th>dispatch_status</th>\n",
       "      <th>dispatched_date</th>\n",
       "      <th>delivery_status</th>\n",
       "      <th>delivery_date</th>\n",
       "      <th>order_time</th>\n",
       "      <th>time_windows</th>\n",
       "      <th>age_bracket</th>\n",
       "    </tr>\n",
       "  </thead>\n",
       "  <tbody>\n",
       "    <tr>\n",
       "      <th>0</th>\n",
       "      <td>BRU00006087</td>\n",
       "      <td>Toothbrush 4000</td>\n",
       "      <td>2022-02-08 18:01:45.572166400</td>\n",
       "      <td>30</td>\n",
       "      <td>1</td>\n",
       "      <td>CW2%206JT</td>\n",
       "      <td>CV34 5LQ</td>\n",
       "      <td>1</td>\n",
       "      <td>Dispatched</td>\n",
       "      <td>2022-02-09 00:03:56.646510399</td>\n",
       "      <td>Delivered</td>\n",
       "      <td>2022-02-10 02:24:36.208709199</td>\n",
       "      <td>18</td>\n",
       "      <td>Midday-6pm</td>\n",
       "      <td>18-34</td>\n",
       "    </tr>\n",
       "    <tr>\n",
       "      <th>1</th>\n",
       "      <td>BRU00004946</td>\n",
       "      <td>Toothbrush 4000</td>\n",
       "      <td>2022-02-04 12:05:37.447536800</td>\n",
       "      <td>18</td>\n",
       "      <td>8</td>\n",
       "      <td>CB3%200RD</td>\n",
       "      <td>DN14 5DH</td>\n",
       "      <td>1</td>\n",
       "      <td>Dispatched</td>\n",
       "      <td>2022-02-04 18:55:46.655676800</td>\n",
       "      <td>Delivered</td>\n",
       "      <td>2022-02-06 04:53:57.263182400</td>\n",
       "      <td>12</td>\n",
       "      <td>6am-midday</td>\n",
       "      <td>18-34</td>\n",
       "    </tr>\n",
       "    <tr>\n",
       "      <th>2</th>\n",
       "      <td>BRU00000723</td>\n",
       "      <td>Toothbrush 4000</td>\n",
       "      <td>2021-08-07 13:37:38.234413600</td>\n",
       "      <td>23</td>\n",
       "      <td>5</td>\n",
       "      <td>NG32%203AY</td>\n",
       "      <td>S71 2GD</td>\n",
       "      <td>1</td>\n",
       "      <td>Dispatched</td>\n",
       "      <td>2021-08-07 21:02:42.457034800</td>\n",
       "      <td>Delivered</td>\n",
       "      <td>2021-08-09 06:25:02.592044800</td>\n",
       "      <td>13</td>\n",
       "      <td>Midday-6pm</td>\n",
       "      <td>18-34</td>\n",
       "    </tr>\n",
       "    <tr>\n",
       "      <th>3</th>\n",
       "      <td>BRU00000942</td>\n",
       "      <td>Toothbrush 4000</td>\n",
       "      <td>2022-02-11 20:03:45.066561200</td>\n",
       "      <td>26</td>\n",
       "      <td>9</td>\n",
       "      <td>CR0%207AU</td>\n",
       "      <td>LN11 0XS</td>\n",
       "      <td>1</td>\n",
       "      <td>Dispatched</td>\n",
       "      <td>2022-02-12 03:48:35.565236000</td>\n",
       "      <td>Delivered</td>\n",
       "      <td>2022-02-13 06:34:01.375112000</td>\n",
       "      <td>20</td>\n",
       "      <td>After 6pm</td>\n",
       "      <td>18-34</td>\n",
       "    </tr>\n",
       "    <tr>\n",
       "      <th>4</th>\n",
       "      <td>BRU00003658</td>\n",
       "      <td>Toothbrush 2000</td>\n",
       "      <td>2021-09-26 04:56:02.086210800</td>\n",
       "      <td>76</td>\n",
       "      <td>9</td>\n",
       "      <td>G33%204JU</td>\n",
       "      <td>NN7 4EH</td>\n",
       "      <td>1</td>\n",
       "      <td>Dispatched</td>\n",
       "      <td>2021-09-26 11:58:58.045588800</td>\n",
       "      <td>Delivered</td>\n",
       "      <td>2021-09-27 18:38:51.340798800</td>\n",
       "      <td>4</td>\n",
       "      <td>Before 6am</td>\n",
       "      <td>65+</td>\n",
       "    </tr>\n",
       "    <tr>\n",
       "      <th>5</th>\n",
       "      <td>BRU00005693</td>\n",
       "      <td>Toothbrush 4000</td>\n",
       "      <td>2022-07-08 12:39:22.149913200</td>\n",
       "      <td>38</td>\n",
       "      <td>8</td>\n",
       "      <td>PH16%205NA</td>\n",
       "      <td>NG33 4EA</td>\n",
       "      <td>1</td>\n",
       "      <td>Dispatched</td>\n",
       "      <td>2022-07-08 19:53:21.739587600</td>\n",
       "      <td>Delivered</td>\n",
       "      <td>2022-07-09 20:00:03.355443600</td>\n",
       "      <td>12</td>\n",
       "      <td>6am-midday</td>\n",
       "      <td>35-49</td>\n",
       "    </tr>\n",
       "    <tr>\n",
       "      <th>6</th>\n",
       "      <td>BRU00001990</td>\n",
       "      <td>Toothbrush 2000</td>\n",
       "      <td>2021-08-20 12:39:34.745370400</td>\n",
       "      <td>88</td>\n",
       "      <td>3</td>\n",
       "      <td>BN27%209DX</td>\n",
       "      <td>PE27 3HJ</td>\n",
       "      <td>1</td>\n",
       "      <td>Dispatched</td>\n",
       "      <td>2021-08-20 19:13:52.411486000</td>\n",
       "      <td>Delivered</td>\n",
       "      <td>2021-08-22 04:21:48.194304400</td>\n",
       "      <td>12</td>\n",
       "      <td>6am-midday</td>\n",
       "      <td>65+</td>\n",
       "    </tr>\n",
       "    <tr>\n",
       "      <th>7</th>\n",
       "      <td>BRU00007296</td>\n",
       "      <td>Toothbrush 4000</td>\n",
       "      <td>2021-05-19 01:36:21.216788800</td>\n",
       "      <td>27</td>\n",
       "      <td>3</td>\n",
       "      <td>BN14%207TH</td>\n",
       "      <td>DH2 1BL</td>\n",
       "      <td>1</td>\n",
       "      <td>Dispatched</td>\n",
       "      <td>2021-05-19 08:09:36.887506000</td>\n",
       "      <td>Delivered</td>\n",
       "      <td>2021-05-20 03:06:25.402750000</td>\n",
       "      <td>1</td>\n",
       "      <td>Before 6am</td>\n",
       "      <td>18-34</td>\n",
       "    </tr>\n",
       "    <tr>\n",
       "      <th>8</th>\n",
       "      <td>BRU00007692</td>\n",
       "      <td>Toothbrush 4000</td>\n",
       "      <td>2021-01-06 18:58:02.874072000</td>\n",
       "      <td>29</td>\n",
       "      <td>5</td>\n",
       "      <td>SA8%203DN</td>\n",
       "      <td>DL15 9SE</td>\n",
       "      <td>1</td>\n",
       "      <td>Dispatched</td>\n",
       "      <td>2021-01-07 02:20:46.872294000</td>\n",
       "      <td>Delivered</td>\n",
       "      <td>2021-01-08 06:22:46.876458000</td>\n",
       "      <td>18</td>\n",
       "      <td>Midday-6pm</td>\n",
       "      <td>18-34</td>\n",
       "    </tr>\n",
       "    <tr>\n",
       "      <th>9</th>\n",
       "      <td>BRU00006415</td>\n",
       "      <td>Toothbrush 2000</td>\n",
       "      <td>2021-08-29 00:54:25.635452000</td>\n",
       "      <td>64</td>\n",
       "      <td>1</td>\n",
       "      <td>IV12%204EW</td>\n",
       "      <td>EX1 3SX</td>\n",
       "      <td>1</td>\n",
       "      <td>Dispatched</td>\n",
       "      <td>2021-08-29 07:55:37.482549200</td>\n",
       "      <td>Delivered</td>\n",
       "      <td>2021-08-30 05:59:04.688159600</td>\n",
       "      <td>0</td>\n",
       "      <td>NaN</td>\n",
       "      <td>50-64</td>\n",
       "    </tr>\n",
       "  </tbody>\n",
       "</table>\n",
       "</div>"
      ],
      "text/plain": [
       "  order_number  toothbrush_type                    order_date  customer_age  \\\n",
       "0  BRU00006087  Toothbrush 4000 2022-02-08 18:01:45.572166400            30   \n",
       "1  BRU00004946  Toothbrush 4000 2022-02-04 12:05:37.447536800            18   \n",
       "2  BRU00000723  Toothbrush 4000 2021-08-07 13:37:38.234413600            23   \n",
       "3  BRU00000942  Toothbrush 4000 2022-02-11 20:03:45.066561200            26   \n",
       "4  BRU00003658  Toothbrush 2000 2021-09-26 04:56:02.086210800            76   \n",
       "5  BRU00005693  Toothbrush 4000 2022-07-08 12:39:22.149913200            38   \n",
       "6  BRU00001990  Toothbrush 2000 2021-08-20 12:39:34.745370400            88   \n",
       "7  BRU00007296  Toothbrush 4000 2021-05-19 01:36:21.216788800            27   \n",
       "8  BRU00007692  Toothbrush 4000 2021-01-06 18:58:02.874072000            29   \n",
       "9  BRU00006415  Toothbrush 2000 2021-08-29 00:54:25.635452000            64   \n",
       "\n",
       "   order_quantity delivery postcode billing_postcode  is_first  \\\n",
       "0               1         CW2%206JT         CV34 5LQ         1   \n",
       "1               8         CB3%200RD         DN14 5DH         1   \n",
       "2               5        NG32%203AY          S71 2GD         1   \n",
       "3               9         CR0%207AU         LN11 0XS         1   \n",
       "4               9         G33%204JU          NN7 4EH         1   \n",
       "5               8        PH16%205NA         NG33 4EA         1   \n",
       "6               3        BN27%209DX         PE27 3HJ         1   \n",
       "7               3        BN14%207TH          DH2 1BL         1   \n",
       "8               5         SA8%203DN         DL15 9SE         1   \n",
       "9               1        IV12%204EW          EX1 3SX         1   \n",
       "\n",
       "  dispatch_status               dispatched_date delivery_status  \\\n",
       "0      Dispatched 2022-02-09 00:03:56.646510399       Delivered   \n",
       "1      Dispatched 2022-02-04 18:55:46.655676800       Delivered   \n",
       "2      Dispatched 2021-08-07 21:02:42.457034800       Delivered   \n",
       "3      Dispatched 2022-02-12 03:48:35.565236000       Delivered   \n",
       "4      Dispatched 2021-09-26 11:58:58.045588800       Delivered   \n",
       "5      Dispatched 2022-07-08 19:53:21.739587600       Delivered   \n",
       "6      Dispatched 2021-08-20 19:13:52.411486000       Delivered   \n",
       "7      Dispatched 2021-05-19 08:09:36.887506000       Delivered   \n",
       "8      Dispatched 2021-01-07 02:20:46.872294000       Delivered   \n",
       "9      Dispatched 2021-08-29 07:55:37.482549200       Delivered   \n",
       "\n",
       "                  delivery_date  order_time time_windows age_bracket  \n",
       "0 2022-02-10 02:24:36.208709199          18   Midday-6pm       18-34  \n",
       "1 2022-02-06 04:53:57.263182400          12   6am-midday       18-34  \n",
       "2 2021-08-09 06:25:02.592044800          13   Midday-6pm       18-34  \n",
       "3 2022-02-13 06:34:01.375112000          20    After 6pm       18-34  \n",
       "4 2021-09-27 18:38:51.340798800           4   Before 6am         65+  \n",
       "5 2022-07-09 20:00:03.355443600          12   6am-midday       35-49  \n",
       "6 2021-08-22 04:21:48.194304400          12   6am-midday         65+  \n",
       "7 2021-05-20 03:06:25.402750000           1   Before 6am       18-34  \n",
       "8 2021-01-08 06:22:46.876458000          18   Midday-6pm       18-34  \n",
       "9 2021-08-30 05:59:04.688159600           0          NaN       50-64  "
      ]
     },
     "execution_count": 558,
     "metadata": {},
     "output_type": "execute_result"
    }
   ],
   "source": [
    "df.head(10)"
   ]
  },
  {
   "cell_type": "code",
   "execution_count": 559,
   "metadata": {},
   "outputs": [],
   "source": [
    "df_2000=df[df['toothbrush_type']=='Toothbrush 2000']"
   ]
  },
  {
   "cell_type": "code",
   "execution_count": 560,
   "metadata": {},
   "outputs": [
    {
     "name": "stderr",
     "output_type": "stream",
     "text": [
      "/var/folders/n3/ffwxys9n7_g_dzzr0q172hp40000gn/T/ipykernel_36797/377610600.py:1: FutureWarning: The default value of numeric_only in DataFrameGroupBy.sum is deprecated. In a future version, numeric_only will default to False. Either specify numeric_only or select only columns which should be valid for the function.\n",
      "  df_2000.groupby('age_bracket').sum().plot(\n"
     ]
    },
    {
     "data": {
      "text/plain": [
       "<AxesSubplot: title={'center': 'Age breakdown for Toothbrush 2000 customers'}, xlabel='Age bracket', ylabel='Order quantity'>"
      ]
     },
     "execution_count": 560,
     "metadata": {},
     "output_type": "execute_result"
    },
    {
     "data": {
      "image/png": "[encoded data removed]",
      "text/plain": [
       "<Figure size 640x480 with 1 Axes>"
      ]
     },
     "metadata": {},
     "output_type": "display_data"
    }
   ],
   "source": [
    "df_2000.groupby('age_bracket').sum().plot(\n",
    "    kind='bar',y='order_quantity',xlabel='Age bracket',ylabel='Order quantity',legend=False,title='Age breakdown for Toothbrush 2000 customers'\n",
    ")"
   ]
  },
  {
   "cell_type": "code",
   "execution_count": 561,
   "metadata": {},
   "outputs": [
    {
     "name": "stderr",
     "output_type": "stream",
     "text": [
      "/var/folders/n3/ffwxys9n7_g_dzzr0q172hp40000gn/T/ipykernel_36797/2356007853.py:1: FutureWarning: The default value of numeric_only in DataFrameGroupBy.sum is deprecated. In a future version, numeric_only will default to False. Either specify numeric_only or select only columns which should be valid for the function.\n",
      "  df_2000.groupby('age_bracket').sum().plot(\n"
     ]
    },
    {
     "data": {
      "text/plain": [
       "<AxesSubplot: title={'center': 'Age breakdown for Toothbrush 2000 customers'}, xlabel='Age bracket', ylabel='Order quantity'>"
      ]
     },
     "execution_count": 561,
     "metadata": {},
     "output_type": "execute_result"
    },
    {
     "data": {
      "image/png": "[encoded data removed]",
      "text/plain": [
       "<Figure size 640x480 with 1 Axes>"
      ]
     },
     "metadata": {},
     "output_type": "display_data"
    }
   ],
   "source": [
    "df_2000.groupby('age_bracket').sum().plot(\n",
    "    kind='bar',y='order_quantity',xlabel='Age bracket',ylabel='Order quantity',legend=False,title='Age breakdown for Toothbrush 2000 customers',logy=True\n",
    ")"
   ]
  },
  {
   "cell_type": "code",
   "execution_count": 562,
   "metadata": {},
   "outputs": [
    {
     "name": "stderr",
     "output_type": "stream",
     "text": [
      "/var/folders/n3/ffwxys9n7_g_dzzr0q172hp40000gn/T/ipykernel_36797/1108902968.py:2: FutureWarning: The default value of numeric_only in DataFrameGroupBy.sum is deprecated. In a future version, numeric_only will default to False. Either specify numeric_only or select only columns which should be valid for the function.\n",
      "  df_4000.groupby('age_bracket').sum().plot(\n"
     ]
    },
    {
     "data": {
      "text/plain": [
       "<AxesSubplot: title={'center': 'Age breakdown for Toothbrush 4000 customers'}, xlabel='Age bracket', ylabel='Order quantity'>"
      ]
     },
     "execution_count": 562,
     "metadata": {},
     "output_type": "execute_result"
    },
    {
     "data": {
      "image/png": "[encoded data removed]",
      "text/plain": [
       "<Figure size 640x480 with 1 Axes>"
      ]
     },
     "metadata": {},
     "output_type": "display_data"
    }
   ],
   "source": [
    "df_4000=df[df['toothbrush_type']=='Toothbrush 4000']\n",
    "df_4000.groupby('age_bracket').sum().plot(\n",
    "    kind='bar',y='order_quantity',xlabel='Age bracket',ylabel='Order quantity',legend=False,title='Age breakdown for Toothbrush 4000 customers'\n",
    ")"
   ]
  },
  {
   "cell_type": "code",
   "execution_count": 563,
   "metadata": {},
   "outputs": [
    {
     "name": "stderr",
     "output_type": "stream",
     "text": [
      "/var/folders/n3/ffwxys9n7_g_dzzr0q172hp40000gn/T/ipykernel_36797/279633986.py:2: FutureWarning: The default value of numeric_only in DataFrameGroupBy.sum is deprecated. In a future version, numeric_only will default to False. Either specify numeric_only or select only columns which should be valid for the function.\n",
      "  df_4000.groupby('age_bracket').sum().plot(\n"
     ]
    },
    {
     "data": {
      "text/plain": [
       "<AxesSubplot: title={'center': 'Age breakdown for Toothbrush 4000 customers'}, xlabel='Age bracket', ylabel='Order quantity'>"
      ]
     },
     "execution_count": 563,
     "metadata": {},
     "output_type": "execute_result"
    },
    {
     "data": {
      "image/png": "[encoded data removed]",
      "text/plain": [
       "<Figure size 640x480 with 1 Axes>"
      ]
     },
     "metadata": {},
     "output_type": "display_data"
    }
   ],
   "source": [
    "df_4000=df[df['toothbrush_type']=='Toothbrush 4000']\n",
    "df_4000.groupby('age_bracket').sum().plot(\n",
    "    kind='bar',y='order_quantity',xlabel='Age bracket',ylabel='Order quantity',legend=False,title='Age breakdown for Toothbrush 4000 customers',logy=True\n",
    ")"
   ]
  },
  {
   "cell_type": "code",
   "execution_count": 564,
   "metadata": {},
   "outputs": [
    {
     "name": "stderr",
     "output_type": "stream",
     "text": [
      "/var/folders/n3/ffwxys9n7_g_dzzr0q172hp40000gn/T/ipykernel_36797/3603482494.py:1: FutureWarning: The default value of numeric_only in DataFrameGroupBy.sum is deprecated. In a future version, numeric_only will default to False. Either specify numeric_only or select only columns which should be valid for the function.\n",
      "  df_2000.groupby(['order_time']).sum().plot(\n"
     ]
    },
    {
     "data": {
      "text/plain": [
       "<AxesSubplot: title={'center': 'Orders of Toothbrush 2000 by time of day placed'}, xlabel='Time of day (nearest hour, 24h clock)', ylabel='Order quantity'>"
      ]
     },
     "execution_count": 564,
     "metadata": {},
     "output_type": "execute_result"
    },
    {
     "data": {
      "image/png": "[encoded data removed]",
      "text/plain": [
       "<Figure size 640x480 with 1 Axes>"
      ]
     },
     "metadata": {},
     "output_type": "display_data"
    }
   ],
   "source": [
    "df_2000.groupby(['order_time']).sum().plot(\n",
    "    y='order_quantity',kind='bar',ylabel='Order quantity',xlabel='Time of day (nearest hour, 24h clock)',title='Orders of Toothbrush 2000 by time of day placed',\n",
    "    legend=False)"
   ]
  },
  {
   "cell_type": "code",
   "execution_count": 565,
   "metadata": {},
   "outputs": [],
   "source": [
    "time_windows = ['Before 6am', '6am-midday', 'Midday-6pm', 'After 6pm']\n",
    "time_bins = [0,6,12,18,24]\n",
    "df['time_windows'] = pd.cut(df['order_time'], labels=time_windows, bins=time_bins)"
   ]
  },
  {
   "cell_type": "code",
   "execution_count": 566,
   "metadata": {},
   "outputs": [
    {
     "data": {
      "text/html": [
       "<div>\n",
       "<style scoped>\n",
       "    .dataframe tbody tr th:only-of-type {\n",
       "        vertical-align: middle;\n",
       "    }\n",
       "\n",
       "    .dataframe tbody tr th {\n",
       "        vertical-align: top;\n",
       "    }\n",
       "\n",
       "    .dataframe thead th {\n",
       "        text-align: right;\n",
       "    }\n",
       "</style>\n",
       "<table border=\"1\" class=\"dataframe\">\n",
       "  <thead>\n",
       "    <tr style=\"text-align: right;\">\n",
       "      <th></th>\n",
       "      <th>order_number</th>\n",
       "      <th>toothbrush_type</th>\n",
       "      <th>order_date</th>\n",
       "      <th>customer_age</th>\n",
       "      <th>order_quantity</th>\n",
       "      <th>delivery postcode</th>\n",
       "      <th>billing_postcode</th>\n",
       "      <th>is_first</th>\n",
       "      <th>dispatch_status</th>\n",
       "      <th>dispatched_date</th>\n",
       "      <th>delivery_status</th>\n",
       "      <th>delivery_date</th>\n",
       "      <th>order_time</th>\n",
       "      <th>time_windows</th>\n",
       "      <th>age_bracket</th>\n",
       "    </tr>\n",
       "  </thead>\n",
       "  <tbody>\n",
       "    <tr>\n",
       "      <th>0</th>\n",
       "      <td>BRU00006087</td>\n",
       "      <td>Toothbrush 4000</td>\n",
       "      <td>2022-02-08 18:01:45.572166400</td>\n",
       "      <td>30</td>\n",
       "      <td>1</td>\n",
       "      <td>CW2%206JT</td>\n",
       "      <td>CV34 5LQ</td>\n",
       "      <td>1</td>\n",
       "      <td>Dispatched</td>\n",
       "      <td>2022-02-09 00:03:56.646510399</td>\n",
       "      <td>Delivered</td>\n",
       "      <td>2022-02-10 02:24:36.208709199</td>\n",
       "      <td>18</td>\n",
       "      <td>Midday-6pm</td>\n",
       "      <td>18-34</td>\n",
       "    </tr>\n",
       "    <tr>\n",
       "      <th>1</th>\n",
       "      <td>BRU00004946</td>\n",
       "      <td>Toothbrush 4000</td>\n",
       "      <td>2022-02-04 12:05:37.447536800</td>\n",
       "      <td>18</td>\n",
       "      <td>8</td>\n",
       "      <td>CB3%200RD</td>\n",
       "      <td>DN14 5DH</td>\n",
       "      <td>1</td>\n",
       "      <td>Dispatched</td>\n",
       "      <td>2022-02-04 18:55:46.655676800</td>\n",
       "      <td>Delivered</td>\n",
       "      <td>2022-02-06 04:53:57.263182400</td>\n",
       "      <td>12</td>\n",
       "      <td>6am-midday</td>\n",
       "      <td>18-34</td>\n",
       "    </tr>\n",
       "    <tr>\n",
       "      <th>2</th>\n",
       "      <td>BRU00000723</td>\n",
       "      <td>Toothbrush 4000</td>\n",
       "      <td>2021-08-07 13:37:38.234413600</td>\n",
       "      <td>23</td>\n",
       "      <td>5</td>\n",
       "      <td>NG32%203AY</td>\n",
       "      <td>S71 2GD</td>\n",
       "      <td>1</td>\n",
       "      <td>Dispatched</td>\n",
       "      <td>2021-08-07 21:02:42.457034800</td>\n",
       "      <td>Delivered</td>\n",
       "      <td>2021-08-09 06:25:02.592044800</td>\n",
       "      <td>13</td>\n",
       "      <td>Midday-6pm</td>\n",
       "      <td>18-34</td>\n",
       "    </tr>\n",
       "    <tr>\n",
       "      <th>3</th>\n",
       "      <td>BRU00000942</td>\n",
       "      <td>Toothbrush 4000</td>\n",
       "      <td>2022-02-11 20:03:45.066561200</td>\n",
       "      <td>26</td>\n",
       "      <td>9</td>\n",
       "      <td>CR0%207AU</td>\n",
       "      <td>LN11 0XS</td>\n",
       "      <td>1</td>\n",
       "      <td>Dispatched</td>\n",
       "      <td>2022-02-12 03:48:35.565236000</td>\n",
       "      <td>Delivered</td>\n",
       "      <td>2022-02-13 06:34:01.375112000</td>\n",
       "      <td>20</td>\n",
       "      <td>After 6pm</td>\n",
       "      <td>18-34</td>\n",
       "    </tr>\n",
       "    <tr>\n",
       "      <th>4</th>\n",
       "      <td>BRU00003658</td>\n",
       "      <td>Toothbrush 2000</td>\n",
       "      <td>2021-09-26 04:56:02.086210800</td>\n",
       "      <td>76</td>\n",
       "      <td>9</td>\n",
       "      <td>G33%204JU</td>\n",
       "      <td>NN7 4EH</td>\n",
       "      <td>1</td>\n",
       "      <td>Dispatched</td>\n",
       "      <td>2021-09-26 11:58:58.045588800</td>\n",
       "      <td>Delivered</td>\n",
       "      <td>2021-09-27 18:38:51.340798800</td>\n",
       "      <td>4</td>\n",
       "      <td>Before 6am</td>\n",
       "      <td>65+</td>\n",
       "    </tr>\n",
       "    <tr>\n",
       "      <th>5</th>\n",
       "      <td>BRU00005693</td>\n",
       "      <td>Toothbrush 4000</td>\n",
       "      <td>2022-07-08 12:39:22.149913200</td>\n",
       "      <td>38</td>\n",
       "      <td>8</td>\n",
       "      <td>PH16%205NA</td>\n",
       "      <td>NG33 4EA</td>\n",
       "      <td>1</td>\n",
       "      <td>Dispatched</td>\n",
       "      <td>2022-07-08 19:53:21.739587600</td>\n",
       "      <td>Delivered</td>\n",
       "      <td>2022-07-09 20:00:03.355443600</td>\n",
       "      <td>12</td>\n",
       "      <td>6am-midday</td>\n",
       "      <td>35-49</td>\n",
       "    </tr>\n",
       "    <tr>\n",
       "      <th>6</th>\n",
       "      <td>BRU00001990</td>\n",
       "      <td>Toothbrush 2000</td>\n",
       "      <td>2021-08-20 12:39:34.745370400</td>\n",
       "      <td>88</td>\n",
       "      <td>3</td>\n",
       "      <td>BN27%209DX</td>\n",
       "      <td>PE27 3HJ</td>\n",
       "      <td>1</td>\n",
       "      <td>Dispatched</td>\n",
       "      <td>2021-08-20 19:13:52.411486000</td>\n",
       "      <td>Delivered</td>\n",
       "      <td>2021-08-22 04:21:48.194304400</td>\n",
       "      <td>12</td>\n",
       "      <td>6am-midday</td>\n",
       "      <td>65+</td>\n",
       "    </tr>\n",
       "    <tr>\n",
       "      <th>7</th>\n",
       "      <td>BRU00007296</td>\n",
       "      <td>Toothbrush 4000</td>\n",
       "      <td>2021-05-19 01:36:21.216788800</td>\n",
       "      <td>27</td>\n",
       "      <td>3</td>\n",
       "      <td>BN14%207TH</td>\n",
       "      <td>DH2 1BL</td>\n",
       "      <td>1</td>\n",
       "      <td>Dispatched</td>\n",
       "      <td>2021-05-19 08:09:36.887506000</td>\n",
       "      <td>Delivered</td>\n",
       "      <td>2021-05-20 03:06:25.402750000</td>\n",
       "      <td>1</td>\n",
       "      <td>Before 6am</td>\n",
       "      <td>18-34</td>\n",
       "    </tr>\n",
       "    <tr>\n",
       "      <th>8</th>\n",
       "      <td>BRU00007692</td>\n",
       "      <td>Toothbrush 4000</td>\n",
       "      <td>2021-01-06 18:58:02.874072000</td>\n",
       "      <td>29</td>\n",
       "      <td>5</td>\n",
       "      <td>SA8%203DN</td>\n",
       "      <td>DL15 9SE</td>\n",
       "      <td>1</td>\n",
       "      <td>Dispatched</td>\n",
       "      <td>2021-01-07 02:20:46.872294000</td>\n",
       "      <td>Delivered</td>\n",
       "      <td>2021-01-08 06:22:46.876458000</td>\n",
       "      <td>18</td>\n",
       "      <td>Midday-6pm</td>\n",
       "      <td>18-34</td>\n",
       "    </tr>\n",
       "    <tr>\n",
       "      <th>9</th>\n",
       "      <td>BRU00006415</td>\n",
       "      <td>Toothbrush 2000</td>\n",
       "      <td>2021-08-29 00:54:25.635452000</td>\n",
       "      <td>64</td>\n",
       "      <td>1</td>\n",
       "      <td>IV12%204EW</td>\n",
       "      <td>EX1 3SX</td>\n",
       "      <td>1</td>\n",
       "      <td>Dispatched</td>\n",
       "      <td>2021-08-29 07:55:37.482549200</td>\n",
       "      <td>Delivered</td>\n",
       "      <td>2021-08-30 05:59:04.688159600</td>\n",
       "      <td>0</td>\n",
       "      <td>NaN</td>\n",
       "      <td>50-64</td>\n",
       "    </tr>\n",
       "  </tbody>\n",
       "</table>\n",
       "</div>"
      ],
      "text/plain": [
       "  order_number  toothbrush_type                    order_date  customer_age  \\\n",
       "0  BRU00006087  Toothbrush 4000 2022-02-08 18:01:45.572166400            30   \n",
       "1  BRU00004946  Toothbrush 4000 2022-02-04 12:05:37.447536800            18   \n",
       "2  BRU00000723  Toothbrush 4000 2021-08-07 13:37:38.234413600            23   \n",
       "3  BRU00000942  Toothbrush 4000 2022-02-11 20:03:45.066561200            26   \n",
       "4  BRU00003658  Toothbrush 2000 2021-09-26 04:56:02.086210800            76   \n",
       "5  BRU00005693  Toothbrush 4000 2022-07-08 12:39:22.149913200            38   \n",
       "6  BRU00001990  Toothbrush 2000 2021-08-20 12:39:34.745370400            88   \n",
       "7  BRU00007296  Toothbrush 4000 2021-05-19 01:36:21.216788800            27   \n",
       "8  BRU00007692  Toothbrush 4000 2021-01-06 18:58:02.874072000            29   \n",
       "9  BRU00006415  Toothbrush 2000 2021-08-29 00:54:25.635452000            64   \n",
       "\n",
       "   order_quantity delivery postcode billing_postcode  is_first  \\\n",
       "0               1         CW2%206JT         CV34 5LQ         1   \n",
       "1               8         CB3%200RD         DN14 5DH         1   \n",
       "2               5        NG32%203AY          S71 2GD         1   \n",
       "3               9         CR0%207AU         LN11 0XS         1   \n",
       "4               9         G33%204JU          NN7 4EH         1   \n",
       "5               8        PH16%205NA         NG33 4EA         1   \n",
       "6               3        BN27%209DX         PE27 3HJ         1   \n",
       "7               3        BN14%207TH          DH2 1BL         1   \n",
       "8               5         SA8%203DN         DL15 9SE         1   \n",
       "9               1        IV12%204EW          EX1 3SX         1   \n",
       "\n",
       "  dispatch_status               dispatched_date delivery_status  \\\n",
       "0      Dispatched 2022-02-09 00:03:56.646510399       Delivered   \n",
       "1      Dispatched 2022-02-04 18:55:46.655676800       Delivered   \n",
       "2      Dispatched 2021-08-07 21:02:42.457034800       Delivered   \n",
       "3      Dispatched 2022-02-12 03:48:35.565236000       Delivered   \n",
       "4      Dispatched 2021-09-26 11:58:58.045588800       Delivered   \n",
       "5      Dispatched 2022-07-08 19:53:21.739587600       Delivered   \n",
       "6      Dispatched 2021-08-20 19:13:52.411486000       Delivered   \n",
       "7      Dispatched 2021-05-19 08:09:36.887506000       Delivered   \n",
       "8      Dispatched 2021-01-07 02:20:46.872294000       Delivered   \n",
       "9      Dispatched 2021-08-29 07:55:37.482549200       Delivered   \n",
       "\n",
       "                  delivery_date  order_time time_windows age_bracket  \n",
       "0 2022-02-10 02:24:36.208709199          18   Midday-6pm       18-34  \n",
       "1 2022-02-06 04:53:57.263182400          12   6am-midday       18-34  \n",
       "2 2021-08-09 06:25:02.592044800          13   Midday-6pm       18-34  \n",
       "3 2022-02-13 06:34:01.375112000          20    After 6pm       18-34  \n",
       "4 2021-09-27 18:38:51.340798800           4   Before 6am         65+  \n",
       "5 2022-07-09 20:00:03.355443600          12   6am-midday       35-49  \n",
       "6 2021-08-22 04:21:48.194304400          12   6am-midday         65+  \n",
       "7 2021-05-20 03:06:25.402750000           1   Before 6am       18-34  \n",
       "8 2021-01-08 06:22:46.876458000          18   Midday-6pm       18-34  \n",
       "9 2021-08-30 05:59:04.688159600           0          NaN       50-64  "
      ]
     },
     "execution_count": 566,
     "metadata": {},
     "output_type": "execute_result"
    }
   ],
   "source": [
    "df.head(10)"
   ]
  },
  {
   "cell_type": "code",
   "execution_count": 570,
   "metadata": {},
   "outputs": [
    {
     "name": "stderr",
     "output_type": "stream",
     "text": [
      "/var/folders/n3/ffwxys9n7_g_dzzr0q172hp40000gn/T/ipykernel_36797/2550571721.py:1: FutureWarning: The default value of numeric_only in DataFrameGroupBy.sum is deprecated. In a future version, numeric_only will default to False. Either specify numeric_only or select only columns which should be valid for the function.\n",
      "  df_2000.groupby(['time_windows']).sum().plot(\n"
     ]
    },
    {
     "data": {
      "text/plain": [
       "<AxesSubplot: title={'center': 'Orders of Toothbrush 2000 by time of day placed'}, ylabel='Order quantity'>"
      ]
     },
     "execution_count": 570,
     "metadata": {},
     "output_type": "execute_result"
    },
    {
     "data": {
      "image/png": "[encoded data removed]",
      "text/plain": [
       "<Figure size 640x480 with 1 Axes>"
      ]
     },
     "metadata": {},
     "output_type": "display_data"
    }
   ],
   "source": [
    "df_2000.groupby(['time_windows']).sum().plot(\n",
    "    y='order_quantity',kind='pie',ylabel='Order quantity',xlabel='Time of day (nearest hour, 24h clock)',title='Orders of Toothbrush 2000 by time of day placed',\n",
    "    legend=False)"
   ]
  },
  {
   "cell_type": "code",
   "execution_count": 571,
   "metadata": {},
   "outputs": [
    {
     "name": "stderr",
     "output_type": "stream",
     "text": [
      "/var/folders/n3/ffwxys9n7_g_dzzr0q172hp40000gn/T/ipykernel_36797/4185959578.py:1: FutureWarning: The default value of numeric_only in DataFrameGroupBy.sum is deprecated. In a future version, numeric_only will default to False. Either specify numeric_only or select only columns which should be valid for the function.\n",
      "  df_4000.groupby(['order_time']).sum().plot(\n"
     ]
    },
    {
     "data": {
      "text/plain": [
       "<AxesSubplot: title={'center': 'Orders of Toothbrush 4000 by time of day placed'}, xlabel='Time of day (nearest hour, 24h clock)', ylabel='Order quantity'>"
      ]
     },
     "execution_count": 571,
     "metadata": {},
     "output_type": "execute_result"
    },
    {
     "data": {
      "image/png": "[encoded data removed]",
      "text/plain": [
       "<Figure size 640x480 with 1 Axes>"
      ]
     },
     "metadata": {},
     "output_type": "display_data"
    }
   ],
   "source": [
    "df_4000.groupby(['order_time']).sum().plot(\n",
    "    y='order_quantity',kind='bar',ylabel='Order quantity',xlabel='Time of day (nearest hour, 24h clock)',title='Orders of Toothbrush 4000 by time of day placed',\n",
    "    legend=False)"
   ]
  },
  {
   "cell_type": "code",
   "execution_count": 569,
   "metadata": {},
   "outputs": [
    {
     "name": "stderr",
     "output_type": "stream",
     "text": [
      "/var/folders/n3/ffwxys9n7_g_dzzr0q172hp40000gn/T/ipykernel_36797/397645160.py:1: FutureWarning: The default value of numeric_only in DataFrameGroupBy.sum is deprecated. In a future version, numeric_only will default to False. Either specify numeric_only or select only columns which should be valid for the function.\n",
      "  df_4000.groupby(['time_windows']).sum().plot(\n"
     ]
    },
    {
     "data": {
      "text/plain": [
       "<AxesSubplot: title={'center': 'Orders of Toothbrush 4000 by time of day placed'}, ylabel='Order quantity'>"
      ]
     },
     "execution_count": 569,
     "metadata": {},
     "output_type": "execute_result"
    },
    {
     "data": {
      "image/png": "[encoded data removed]",
      "text/plain": [
       "<Figure size 640x480 with 1 Axes>"
      ]
     },
     "metadata": {},
     "output_type": "display_data"
    }
   ],
   "source": [
    "df_4000.groupby(['time_windows']).sum().plot(\n",
    "    y='order_quantity',kind='pie',ylabel='Order quantity',xlabel='Time of day (nearest hour, 24h clock)',title='Orders of Toothbrush 4000 by time of day placed',\n",
    "    legend=False)"
   ]
  }
 ],
 "metadata": {
  "kernelspec": {
   "display_name": "Python 3.10.8 64-bit",
   "language": "python",
   "name": "python3"
  },
  "language_info": {
   "codemirror_mode": {
    "name": "ipython",
    "version": 3
   },
   "file_extension": ".py",
   "mimetype": "text/x-python",
   "name": "python",
   "nbconvert_exporter": "python",
   "pygments_lexer": "ipython3",
   "version": "3.10.8"
  },
  "orig_nbformat": 4,
  "vscode": {
   "interpreter": {
    "hash": "b0fa6594d8f4cbf19f97940f81e996739fb7646882a419484c72d19e05852a7e"
   }
  }
 },
 "nbformat": 4,
 "nbformat_minor": 2
}
